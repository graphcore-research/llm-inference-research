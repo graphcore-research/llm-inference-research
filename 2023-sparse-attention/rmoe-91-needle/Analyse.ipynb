{
 "cells": [
  {
   "cell_type": "code",
   "execution_count": 1,
   "metadata": {},
   "outputs": [
    {
     "name": "stderr",
     "output_type": "stream",
     "text": [
      "findfont: Font family ['CMU Serif'] not found. Falling back to DejaVu Sans.\n"
     ]
    }
   ],
   "source": [
    "import copy\n",
    "import sys\n",
    "from typing import *\n",
    "\n",
    "import numpy as np\n",
    "import matplotlib\n",
    "import matplotlib.pyplot as plt\n",
    "import pandas as pd\n",
    "import seaborn as sns\n",
    "import tabulate\n",
    "\n",
    "import wandb\n",
    "\n",
    "sns.set_context(\"paper\", font_scale=1.5)\n",
    "matplotlib.rc(\"font\", family=\"serif\", serif=[\"CMU Serif\"])\n",
    "matplotlib.rc(\"text\", usetex=True)\n",
    "# matplotlib.rc(\"font\", family=\"sans-serif\"); matplotlib.rc(\"text\", usetex=False)\n",
    "matplotlib.rcParams[\"text.latex.preamble\"] = r\"\\usepackage{amsmath}\"\n",
    "matplotlib.font_manager.findfont(\"CMU Serif\", rebuild_if_missing=True)\n",
    "\n",
    "api = wandb.Api()"
   ]
  },
  {
   "cell_type": "markdown",
   "metadata": {},
   "source": [
    "# Analysis"
   ]
  },
  {
   "cell_type": "code",
   "execution_count": 2,
   "metadata": {},
   "outputs": [
    {
     "data": {
      "text/html": [
       "<div>\n",
       "<style scoped>\n",
       "    .dataframe tbody tr th:only-of-type {\n",
       "        vertical-align: middle;\n",
       "    }\n",
       "\n",
       "    .dataframe tbody tr th {\n",
       "        vertical-align: top;\n",
       "    }\n",
       "\n",
       "    .dataframe thead th {\n",
       "        text-align: right;\n",
       "    }\n",
       "</style>\n",
       "<table border=\"1\" class=\"dataframe\">\n",
       "  <thead>\n",
       "    <tr style=\"text-align: right;\">\n",
       "      <th></th>\n",
       "      <th></th>\n",
       "      <th></th>\n",
       "      <th>compression</th>\n",
       "      <th>match</th>\n",
       "    </tr>\n",
       "    <tr>\n",
       "      <th>name</th>\n",
       "      <th>k</th>\n",
       "      <th>rank</th>\n",
       "      <th></th>\n",
       "      <th></th>\n",
       "    </tr>\n",
       "  </thead>\n",
       "  <tbody>\n",
       "    <tr>\n",
       "      <th>dense</th>\n",
       "      <th>NaN</th>\n",
       "      <th>NaN</th>\n",
       "      <td>1.0</td>\n",
       "      <td>0.978516</td>\n",
       "    </tr>\n",
       "    <tr>\n",
       "      <th rowspan=\"2\" valign=\"top\">ann</th>\n",
       "      <th>0.250</th>\n",
       "      <th>32.0</th>\n",
       "      <td>2.0</td>\n",
       "      <td>0.955078</td>\n",
       "    </tr>\n",
       "    <tr>\n",
       "      <th>0.125</th>\n",
       "      <th>16.0</th>\n",
       "      <td>4.0</td>\n",
       "      <td>0.912109</td>\n",
       "    </tr>\n",
       "    <tr>\n",
       "      <th rowspan=\"2\" valign=\"top\">local</th>\n",
       "      <th>0.500</th>\n",
       "      <th>NaN</th>\n",
       "      <td>2.0</td>\n",
       "      <td>0.484375</td>\n",
       "    </tr>\n",
       "    <tr>\n",
       "      <th>0.250</th>\n",
       "      <th>NaN</th>\n",
       "      <td>4.0</td>\n",
       "      <td>0.232422</td>\n",
       "    </tr>\n",
       "    <tr>\n",
       "      <th rowspan=\"2\" valign=\"top\">eviction</th>\n",
       "      <th>0.500</th>\n",
       "      <th>NaN</th>\n",
       "      <td>2.0</td>\n",
       "      <td>0.230469</td>\n",
       "    </tr>\n",
       "    <tr>\n",
       "      <th>0.250</th>\n",
       "      <th>NaN</th>\n",
       "      <td>4.0</td>\n",
       "      <td>0.076172</td>\n",
       "    </tr>\n",
       "  </tbody>\n",
       "</table>\n",
       "</div>"
      ],
      "text/plain": [
       "                     compression     match\n",
       "name     k     rank                       \n",
       "dense    NaN   NaN           1.0  0.978516\n",
       "ann      0.250 32.0          2.0  0.955078\n",
       "         0.125 16.0          4.0  0.912109\n",
       "local    0.500 NaN           2.0  0.484375\n",
       "         0.250 NaN           4.0  0.232422\n",
       "eviction 0.500 NaN           2.0  0.230469\n",
       "         0.250 NaN           4.0  0.076172"
      ]
     },
     "execution_count": 2,
     "metadata": {},
     "output_type": "execute_result"
    }
   ],
   "source": [
    "def get_results(run: wandb.apis.public.Run) -> Iterable[Dict[str, Any]]:\n",
    "    if \"results\" in run.summary:\n",
    "        c = run.config[\"sparsity\"]\n",
    "        if c[\"name\"] == \"dense\":\n",
    "            compression = 1\n",
    "        elif c[\"name\"] == \"ann\":\n",
    "            compression = 1 / (c[\"k\"] + c[\"rank\"] / 128)\n",
    "        else:\n",
    "            compression = 1 / c[\"k\"]\n",
    "        for result in run.summary[\"results\"]:\n",
    "            yield dict(**c, compression=compression, **result)\n",
    "\n",
    "df = pd.DataFrame(r for run in api.runs(\"research/sparse-attention\", {\"config.name\": \"RMOE-91-needle-v6\"}) for r in get_results(run))\n",
    "# df = pd.DataFrame(r for run in api.runs(\"research/sparse-attention\", {\"config.name\": \"RMOE-91-needle-v7-numeric-needle\"}) for r in get_results(run))\n",
    "df.groupby([\"name\", \"k\", \"rank\"], dropna=False)[[\"compression\", \"match\"]].mean().sort_values(\"match\", ascending=False)"
   ]
  },
  {
   "cell_type": "code",
   "execution_count": 17,
   "metadata": {},
   "outputs": [
    {
     "data": {
      "text/html": [
       "<style type=\"text/css\">\n",
       "</style>\n",
       "<table id=\"T_7d466\">\n",
       "  <thead>\n",
       "    <tr>\n",
       "      <th class=\"blank\" >&nbsp;</th>\n",
       "      <th class=\"blank\" >&nbsp;</th>\n",
       "      <th class=\"blank level0\" >&nbsp;</th>\n",
       "      <th id=\"T_7d466_level0_col0\" class=\"col_heading level0 col0\" >match</th>\n",
       "    </tr>\n",
       "    <tr>\n",
       "      <th class=\"index_name level0\" >name</th>\n",
       "      <th class=\"index_name level1\" >k</th>\n",
       "      <th class=\"index_name level2\" >rank</th>\n",
       "      <th class=\"blank col0\" >&nbsp;</th>\n",
       "    </tr>\n",
       "  </thead>\n",
       "  <tbody>\n",
       "    <tr>\n",
       "      <th id=\"T_7d466_level0_row0\" class=\"row_heading level0 row0\" >dense</th>\n",
       "      <th id=\"T_7d466_level1_row0\" class=\"row_heading level1 row0\" >nan</th>\n",
       "      <th id=\"T_7d466_level2_row0\" class=\"row_heading level2 row0\" >nan</th>\n",
       "      <td id=\"T_7d466_row0_col0\" class=\"data row0 col0\" >97.9%</td>\n",
       "    </tr>\n",
       "    <tr>\n",
       "      <th id=\"T_7d466_level0_row1\" class=\"row_heading level0 row1\" >ann</th>\n",
       "      <th id=\"T_7d466_level1_row1\" class=\"row_heading level1 row1\" >0.125000</th>\n",
       "      <th id=\"T_7d466_level2_row1\" class=\"row_heading level2 row1\" >16.000000</th>\n",
       "      <td id=\"T_7d466_row1_col0\" class=\"data row1 col0\" >91.2%</td>\n",
       "    </tr>\n",
       "    <tr>\n",
       "      <th id=\"T_7d466_level0_row2\" class=\"row_heading level0 row2\" >local</th>\n",
       "      <th id=\"T_7d466_level1_row2\" class=\"row_heading level1 row2\" >0.250000</th>\n",
       "      <th id=\"T_7d466_level2_row2\" class=\"row_heading level2 row2\" >nan</th>\n",
       "      <td id=\"T_7d466_row2_col0\" class=\"data row2 col0\" >23.2%</td>\n",
       "    </tr>\n",
       "    <tr>\n",
       "      <th id=\"T_7d466_level0_row3\" class=\"row_heading level0 row3\" >eviction</th>\n",
       "      <th id=\"T_7d466_level1_row3\" class=\"row_heading level1 row3\" >0.250000</th>\n",
       "      <th id=\"T_7d466_level2_row3\" class=\"row_heading level2 row3\" >nan</th>\n",
       "      <td id=\"T_7d466_row3_col0\" class=\"data row3 col0\" >7.6%</td>\n",
       "    </tr>\n",
       "  </tbody>\n",
       "</table>\n"
      ],
      "text/plain": [
       "<pandas.io.formats.style.Styler at 0x7f3c5b578d00>"
      ]
     },
     "execution_count": 17,
     "metadata": {},
     "output_type": "execute_result"
    }
   ],
   "source": [
    "df.pipe(lambda d: d[d.compression.isin([1, 4])]).groupby([\"name\", \"k\", \"rank\"], dropna=False).match.mean().to_frame().sort_values(\"match\", ascending=False).style.format(\"{:.1%}\")"
   ]
  },
  {
   "cell_type": "code",
   "execution_count": 21,
   "metadata": {},
   "outputs": [
    {
     "data": {
      "image/png": "[encoded data removed]",
      "text/plain": [
       "<Figure size 1600x300 with 4 Axes>"
      ]
     },
     "metadata": {},
     "output_type": "display_data"
    }
   ],
   "source": [
    "methods = dict(dense=\"Dense\", ann=\"SparQ Attention\", eviction=\"H$_2$O\", local=\"LM-Infinite\")\n",
    "\n",
    "d = df.pipe(lambda d: d[(d.name == \"dense\") | (d[\"compression\"] == 4)])\n",
    "\n",
    "_, axs = plt.subplots(1, len(methods), sharey=True, figsize=(4 * len(methods), 3))\n",
    "for name, ax in zip([\"dense\", \"ann\", \"eviction\", \"local\"], axs):\n",
    "    table = d[d[\"name\"] == name].pivot_table(index=\"depth\", columns=\"length\", values=\"match\")\n",
    "    ax.imshow(table, cmap=\"coolwarm_r\", vmin=0, vmax=1, aspect=1)\n",
    "    ax.set_title(methods[name], pad=10)\n",
    "    yticks = list(enumerate(table.index))[::5]\n",
    "    ax.set_yticks([n for n, _ in yticks], [f\"{x:.1f}\" for _, x in yticks])\n",
    "    xticks = [(i, table.columns[i]) for i in [0, 7, 15, 23, 31]]\n",
    "    ax.set_xticks([n for n, _ in xticks], [f\"{(x + 128)/1024:.0f}k\" for _, x in xticks])\n",
    "    ax.tick_params(axis=\"x\", labelrotation=0)\n",
    "    ax.set_ylabel(\"\" if ax is not axs[0] else \"Depth\")\n",
    "    ax.set_xlabel(\"$S$\")\n",
    "plt.tight_layout()"
   ]
  },
  {
   "cell_type": "markdown",
   "metadata": {},
   "source": [
    "# Errors"
   ]
  },
  {
   "cell_type": "code",
   "execution_count": 44,
   "metadata": {},
   "outputs": [
    {
     "name": "stdout",
     "output_type": "stream",
     "text": [
      "Errors (SparQ, 4x):\n",
      "\n",
      "Length  Depth  Output\n",
      "  1024   0.00  'eat eat eat eat eat eat eat eat eat eat eat eat eat eat eat eat eat eat eat eat'\n",
      "  1024   0.07  'eat eat eat eat eat eat eat eat eat eat eat eat eat eat eat eat eat eat eat eat'\n",
      "  1024   0.13  'eat eat eat eat eat eat eat eat eat eat eat eat eat eat eat eat eat eat eat eat'\n",
      "  1024   0.20  'eat eat eat eat eat eat eat eat eat eat eat eat eat eat eat eat eat eat eat eat'\n",
      "  1024   0.27  'eat eat eat eat eat eat eat eat eat eat eat eat eat eat eat eat eat eat eat eat'\n",
      "  1024   0.33  'eat eat eat eat eat eat eat eat eat eat eat eat eat eat eat eat eat eat eat eat'\n",
      "  1024   0.40  'eat eat eat eat eat eat eat eat eat eat eat eat eat eat eat eat eat eat eat eat'\n",
      "  1024   0.47  'eat eat eat eat eat eat eat eat eat eat eat eat eat eat eat eat eat eat eat eat'\n",
      "  1024   0.53  'eat eat eat eat eat eat eat eat eat eat eat eat eat eat eat eat eat eat eat eat'\n",
      "  1024   0.60  'eat eat a sandwich and sit in Dolores Park on a sunny day.\"\\n\\n\\n'\n",
      "  1024   0.67  'eat eat a sandwich and sit in Dolores Park on a sunny day.\"\\n\\n\\n'\n",
      "  1024   0.73  'eat eat eat eat eat eat eat eat eat eat eat eat eat eat eat eat eat eat eat eat'\n",
      "  1024   0.80  'eat eat eat eat eat eat eat eat eat eat eat eat eat eat eat eat eat eat eat eat'\n",
      "  1024   0.87  'eat eat eat eat eat eat eat eat eat eat eat eat eat eat eat eat eat eat eat eat'\n",
      "  1024   0.93  'eat eat eat eat eat eat eat eat eat eat eat eat eat eat eat eat eat eat eat eat'\n",
      "  1024   1.00  'eat eat a sandwich and sit in Dolores Park on a sunny day.\"\\n\\n\\n'\n",
      "  2048   0.87  'eat eat a sandwich and sit in Dolores Park on a sunny day.\"\\n\\n\\n'\n",
      "  2048   0.93  'eat eat drink.\"\\n\\n\\nWhat is the best thing to do in San Francisco? \"The'\n",
      "  2048   1.00  'eat eat a sandwich and sit in Dolores Park on a sunny day.\"\\n\\n\\n'\n",
      "  3072   0.00  'eat eat eat eat eat eat eat eat eat eat eat eat eat eat eat eat eat eat eat eat'\n",
      "  3072   0.20  'eat eat eat eat eat eat eat eat eat eat eat eat eat eat eat eat eat eat eat eat'\n",
      "  3072   0.27  'eat eat eat eat eat eat eat eat eat eat eat eat eat eat eat eat eat eat eat eat'\n",
      "  3072   0.33  'eat eat eat eat eat eat eat eat eat eat eat eat eat eat eat eat eat eat eat eat'\n",
      "  3072   0.40  'eat eat eat eat eat eat eat eat eat eat eat eat eat eat eat eat eat eat eat eat'\n",
      "  3072   0.47  'eat eat eat eat eat eat eat eat eat eat eat eat eat eat eat eat eat eat eat eat'\n",
      "  3072   0.53  'eat eat eat eat eat eat eat eat eat eat eat eat eat eat eat eat eat eat eat eat'\n",
      "  3072   0.60  'eat eat eat eat eat eat eat eat eat eat eat eat eat eat eat eat eat eat eat eat'\n",
      "  3072   0.67  'eat eat eat eat eat eat eat eat eat eat eat eat eat eat eat eat eat eat eat eat'\n",
      "  3072   0.73  'eat eat eat eat eat eat eat eat eat eat eat eat eat eat eat eat eat eat eat eat'\n",
      "  3072   0.80  'eat eat eat eat eat eat eat eat eat eat eat eat eat eat eat eat eat eat eat eat'\n",
      "  3072   0.87  'eat eat eat eat eat eat eat eat eat eat eat eat eat eat eat eat eat eat eat eat'\n",
      "  3072   0.93  'eat eat eat eat eat eat eat eat eat eat eat eat eat eat eat eat eat eat eat eat'\n",
      "  3072   1.00  'eat eat eat eat eat eat eat eat eat eat eat eat eat eat eat eat eat eat eat eat'\n",
      " 32768   0.07  'eat a sandwich.\"\\n\\nTITLE: The Lisp Programmer\\'s Delusion'\n"
     ]
    }
   ],
   "source": [
    "print(\"Errors (SparQ, 4x):\\n\")\n",
    "print(\"Length  Depth  Output\")\n",
    "dense_errors = set(df.pipe(lambda d: d[(d.name==\"dense\") & (~d.match)]).id)\n",
    "for _, row in (df.pipe(lambda d: d[(d.name==\"ann\") & (d.compression==4)]).pipe(lambda d: d[~d.match & ~d.id.isin(dense_errors)])).iterrows():\n",
    "    print(f\" {row.length + 128:>5}   {row.depth:.2f}  {row.output!r}\")"
   ]
  }
 ],
 "metadata": {
  "kernelspec": {
   "display_name": ".venv",
   "language": "python",
   "name": "python3"
  },
  "language_info": {
   "codemirror_mode": {
    "name": "ipython",
    "version": 3
   },
   "file_extension": ".py",
   "mimetype": "text/x-python",
   "name": "python",
   "nbconvert_exporter": "python",
   "pygments_lexer": "ipython3",
   "version": "3.10.12"
  }
 },
 "nbformat": 4,
 "nbformat_minor": 2
}
