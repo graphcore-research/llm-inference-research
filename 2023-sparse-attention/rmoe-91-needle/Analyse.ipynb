{
 "cells": [
  {
   "cell_type": "code",
   "execution_count": 2,
   "metadata": {},
   "outputs": [
    {
     "name": "stderr",
     "output_type": "stream",
     "text": [
      "findfont: Font family ['CMU Serif'] not found. Falling back to DejaVu Sans.\n"
     ]
    }
   ],
   "source": [
    "from typing import *\n",
    "\n",
    "import numpy as np\n",
    "import matplotlib\n",
    "import matplotlib.pyplot as plt\n",
    "import pandas as pd\n",
    "import seaborn as sns\n",
    "\n",
    "import wandb\n",
    "\n",
    "sns.set_context(\"paper\", font_scale=1.5)\n",
    "matplotlib.rc(\"font\", family=\"serif\", serif=[\"CMU Serif\"])\n",
    "matplotlib.rc(\"text\", usetex=True)\n",
    "# matplotlib.rc(\"font\", family=\"sans-serif\"); matplotlib.rc(\"text\", usetex=False)\n",
    "matplotlib.rcParams[\"text.latex.preamble\"] = r\"\\usepackage{amsmath}\"\n",
    "matplotlib.font_manager.findfont(\"CMU Serif\", rebuild_if_missing=True)\n",
    "\n",
    "api = wandb.Api()"
   ]
  },
  {
   "cell_type": "markdown",
   "metadata": {},
   "source": [
    "# Analysis"
   ]
  },
  {
   "cell_type": "code",
   "execution_count": 3,
   "metadata": {},
   "outputs": [
    {
     "data": {
      "text/html": [
       "<div>\n",
       "<style scoped>\n",
       "    .dataframe tbody tr th:only-of-type {\n",
       "        vertical-align: middle;\n",
       "    }\n",
       "\n",
       "    .dataframe tbody tr th {\n",
       "        vertical-align: top;\n",
       "    }\n",
       "\n",
       "    .dataframe thead th {\n",
       "        text-align: right;\n",
       "    }\n",
       "</style>\n",
       "<table border=\"1\" class=\"dataframe\">\n",
       "  <thead>\n",
       "    <tr style=\"text-align: right;\">\n",
       "      <th></th>\n",
       "      <th></th>\n",
       "      <th></th>\n",
       "      <th>compression</th>\n",
       "      <th>match</th>\n",
       "    </tr>\n",
       "    <tr>\n",
       "      <th>name</th>\n",
       "      <th>k</th>\n",
       "      <th>rank</th>\n",
       "      <th></th>\n",
       "      <th></th>\n",
       "    </tr>\n",
       "  </thead>\n",
       "  <tbody>\n",
       "    <tr>\n",
       "      <th>dense</th>\n",
       "      <th>NaN</th>\n",
       "      <th>NaN</th>\n",
       "      <td>1.0</td>\n",
       "      <td>0.976103</td>\n",
       "    </tr>\n",
       "    <tr>\n",
       "      <th rowspan=\"2\" valign=\"top\">ann</th>\n",
       "      <th>0.1250</th>\n",
       "      <th>32.0</th>\n",
       "      <td>4.0</td>\n",
       "      <td>0.928309</td>\n",
       "    </tr>\n",
       "    <tr>\n",
       "      <th>0.0625</th>\n",
       "      <th>16.0</th>\n",
       "      <td>8.0</td>\n",
       "      <td>0.683824</td>\n",
       "    </tr>\n",
       "    <tr>\n",
       "      <th rowspan=\"2\" valign=\"top\">local</th>\n",
       "      <th>0.2500</th>\n",
       "      <th>NaN</th>\n",
       "      <td>4.0</td>\n",
       "      <td>0.218750</td>\n",
       "    </tr>\n",
       "    <tr>\n",
       "      <th>0.1250</th>\n",
       "      <th>NaN</th>\n",
       "      <td>8.0</td>\n",
       "      <td>0.095588</td>\n",
       "    </tr>\n",
       "    <tr>\n",
       "      <th rowspan=\"2\" valign=\"top\">eviction</th>\n",
       "      <th>0.2500</th>\n",
       "      <th>NaN</th>\n",
       "      <td>4.0</td>\n",
       "      <td>0.071691</td>\n",
       "    </tr>\n",
       "    <tr>\n",
       "      <th>0.1250</th>\n",
       "      <th>NaN</th>\n",
       "      <td>8.0</td>\n",
       "      <td>0.036765</td>\n",
       "    </tr>\n",
       "  </tbody>\n",
       "</table>\n",
       "</div>"
      ],
      "text/plain": [
       "                      compression     match\n",
       "name     k      rank                       \n",
       "dense    NaN    NaN           1.0  0.976103\n",
       "ann      0.1250 32.0          4.0  0.928309\n",
       "         0.0625 16.0          8.0  0.683824\n",
       "local    0.2500 NaN           4.0  0.218750\n",
       "         0.1250 NaN           8.0  0.095588\n",
       "eviction 0.2500 NaN           4.0  0.071691\n",
       "         0.1250 NaN           8.0  0.036765"
      ]
     },
     "execution_count": 3,
     "metadata": {},
     "output_type": "execute_result"
    }
   ],
   "source": [
    "def get_results(run: wandb.apis.public.Run) -> Iterable[Dict[str, Any]]:\n",
    "    if \"results\" in run.summary:\n",
    "        c = run.config[\"sparsity\"]\n",
    "        if c[\"name\"] == \"dense\":\n",
    "            compression = 1\n",
    "        elif c[\"name\"] == \"ann\":\n",
    "            # (2 S d) / (S r + 2 k d)\n",
    "            compression = 1 / (c[\"k\"] + c[\"rank\"] / 128 / 2)\n",
    "        else:\n",
    "            compression = 1 / c[\"k\"]\n",
    "        for result in run.summary[\"results\"]:\n",
    "            yield dict(**c, compression=compression, **result)\n",
    "\n",
    "df = pd.DataFrame(r for run in api.runs(\"research/sparse-attention\", {\"config.name\": \"RMOE-91-needle-v8\"}) for r in get_results(run))\n",
    "df.groupby([\"name\", \"k\", \"rank\"], dropna=False)[[\"compression\", \"match\"]].mean().sort_values(\"match\", ascending=False)"
   ]
  },
  {
   "cell_type": "code",
   "execution_count": 4,
   "metadata": {},
   "outputs": [
    {
     "data": {
      "text/html": [
       "<style type=\"text/css\">\n",
       "</style>\n",
       "<table id=\"T_e1d28\">\n",
       "  <thead>\n",
       "    <tr>\n",
       "      <th class=\"blank\" >&nbsp;</th>\n",
       "      <th class=\"blank\" >&nbsp;</th>\n",
       "      <th class=\"blank level0\" >&nbsp;</th>\n",
       "      <th id=\"T_e1d28_level0_col0\" class=\"col_heading level0 col0\" >match</th>\n",
       "    </tr>\n",
       "    <tr>\n",
       "      <th class=\"index_name level0\" >name</th>\n",
       "      <th class=\"index_name level1\" >k</th>\n",
       "      <th class=\"index_name level2\" >rank</th>\n",
       "      <th class=\"blank col0\" >&nbsp;</th>\n",
       "    </tr>\n",
       "  </thead>\n",
       "  <tbody>\n",
       "    <tr>\n",
       "      <th id=\"T_e1d28_level0_row0\" class=\"row_heading level0 row0\" >dense</th>\n",
       "      <th id=\"T_e1d28_level1_row0\" class=\"row_heading level1 row0\" >nan</th>\n",
       "      <th id=\"T_e1d28_level2_row0\" class=\"row_heading level2 row0\" >nan</th>\n",
       "      <td id=\"T_e1d28_row0_col0\" class=\"data row0 col0\" >97.6%</td>\n",
       "    </tr>\n",
       "    <tr>\n",
       "      <th id=\"T_e1d28_level0_row1\" class=\"row_heading level0 row1\" >ann</th>\n",
       "      <th id=\"T_e1d28_level1_row1\" class=\"row_heading level1 row1\" >0.125000</th>\n",
       "      <th id=\"T_e1d28_level2_row1\" class=\"row_heading level2 row1\" >32.000000</th>\n",
       "      <td id=\"T_e1d28_row1_col0\" class=\"data row1 col0\" >92.8%</td>\n",
       "    </tr>\n",
       "    <tr>\n",
       "      <th id=\"T_e1d28_level0_row2\" class=\"row_heading level0 row2\" >local</th>\n",
       "      <th id=\"T_e1d28_level1_row2\" class=\"row_heading level1 row2\" >0.250000</th>\n",
       "      <th id=\"T_e1d28_level2_row2\" class=\"row_heading level2 row2\" >nan</th>\n",
       "      <td id=\"T_e1d28_row2_col0\" class=\"data row2 col0\" >21.9%</td>\n",
       "    </tr>\n",
       "    <tr>\n",
       "      <th id=\"T_e1d28_level0_row3\" class=\"row_heading level0 row3\" >eviction</th>\n",
       "      <th id=\"T_e1d28_level1_row3\" class=\"row_heading level1 row3\" >0.250000</th>\n",
       "      <th id=\"T_e1d28_level2_row3\" class=\"row_heading level2 row3\" >nan</th>\n",
       "      <td id=\"T_e1d28_row3_col0\" class=\"data row3 col0\" >7.2%</td>\n",
       "    </tr>\n",
       "  </tbody>\n",
       "</table>\n"
      ],
      "text/plain": [
       "<pandas.io.formats.style.Styler at 0x7fc2a06c9990>"
      ]
     },
     "execution_count": 4,
     "metadata": {},
     "output_type": "execute_result"
    }
   ],
   "source": [
    "df.pipe(lambda d: d[d.compression.isin([1, 4])]).groupby([\"name\", \"k\", \"rank\"], dropna=False).match.mean().to_frame().sort_values(\"match\", ascending=False).style.format(\"{:.1%}\")"
   ]
  },
  {
   "cell_type": "code",
   "execution_count": 7,
   "metadata": {},
   "outputs": [
    {
     "data": {
      "image/png": "[encoded data removed]",
      "text/plain": [
       "<Figure size 1600x300 with 4 Axes>"
      ]
     },
     "metadata": {},
     "output_type": "display_data"
    }
   ],
   "source": [
    "methods = dict(dense=\"Dense\", ann=\"SparQ Attention\", eviction=\"H$_2$O\", local=\"LM-Infinite\")\n",
    "\n",
    "d = df.pipe(lambda d: d[(d.name == \"dense\") | (d[\"compression\"] == 4)])\n",
    "\n",
    "_, axs = plt.subplots(1, len(methods), sharey=True, figsize=(4 * len(methods), 3))\n",
    "for name, ax in zip([\"dense\", \"ann\", \"eviction\", \"local\"], axs):\n",
    "    table = d[d[\"name\"] == name].pivot_table(index=\"depth\", columns=\"length\", values=\"match\")\n",
    "    ax.imshow(table, cmap=\"coolwarm_r\", vmin=0, vmax=1, aspect=1)\n",
    "    ax.set_title(methods[name], pad=10)\n",
    "    yticks = list(enumerate(table.index))[::4]\n",
    "    ax.set_yticks([n for n, _ in yticks], [f\"{x:.2f}\" for _, x in yticks])\n",
    "    xticks = [(i, table.columns[i]) for i in [0, 7, 15, 23, 31]]\n",
    "    ax.set_xticks([n for n, _ in xticks], [f\"{(x + 128)/1024:.0f}k\" for _, x in xticks])\n",
    "    ax.tick_params(axis=\"x\", labelrotation=0)\n",
    "    ax.set_ylabel(\"\" if ax is not axs[0] else \"Depth\")\n",
    "    ax.set_xlabel(\"$S$\")\n",
    "plt.tight_layout()\n",
    "plt.savefig(f\"out/needle_in_a_haystack.png\", bbox_inches=\"tight\")"
   ]
  },
  {
   "cell_type": "markdown",
   "metadata": {},
   "source": [
    "# Errors"
   ]
  },
  {
   "cell_type": "code",
   "execution_count": 6,
   "metadata": {},
   "outputs": [
    {
     "name": "stdout",
     "output_type": "stream",
     "text": [
      "Errors (SparQ, 4x):\n",
      "\n",
      "Length  Depth  Output\n",
      "  1024   0.06  'eat eat eat eat eat eat eat eat eat eat eat eat eat eat eat eat eat eat eat eat'\n",
      "  1024   0.12  'eat eat eat eat eat eat eat eat eat eat eat eat eat eat eat eat eat eat eat eat'\n",
      "  1024   0.19  'eat eat eat eat eat eat eat eat eat eat eat eat eat eat eat eat eat eat eat eat'\n",
      "  1024   0.25  'eat eat eat eat eat eat eat eat eat eat eat eat eat eat eat eat eat eat eat eat'\n",
      "  1024   0.31  'eat eat eat eat eat eat eat eat eat eat eat eat eat eat eat eat eat eat eat eat'\n",
      "  1024   0.50  'eat eat eat eat eat eat eat eat eat eat eat eat eat eat eat eat eat eat eat eat'\n",
      "  1024   0.62  'eat eat eat eat eat eat eat eat eat eat eat eat eat eat eat eat eat eat eat eat'\n",
      "  1024   0.69  'eat eat eat eat eat eat eat eat eat eat eat eat eat eat eat eat eat eat eat eat'\n",
      "  1024   0.75  'eat eat eat eat eat eat eat eat eat eat eat eat eat eat eat eat eat eat eat eat'\n",
      "  1024   0.81  'eat eat eat eat eat eat eat eat eat eat eat eat eat eat eat eat eat eat eat eat'\n",
      "  1024   0.88  'eat eat eat eat eat eat eat eat eat eat eat eat eat eat eat eat eat eat eat eat'\n",
      "  1024   0.94  'eat eat eat eat eat eat eat eat eat eat eat eat eat eat eat eat eat eat eat eat'\n",
      "  2048   0.06  'eat eat eat eat eat eat eat eat eat eat eat eat eat eat eat eat eat eat eat eat'\n",
      "  2048   0.19  'eat eat eat eat eat eat eat eat eat eat eat eat eat eat eat eat eat eat eat eat'\n",
      "  2048   0.31  'eat eat eat eat eat eat eat eat eat eat eat eat eat eat eat eat eat eat eat eat'\n",
      "  2048   0.38  'eat eat eat eat eat eat eat eat eat eat eat eat eat eat eat eat eat eat eat eat'\n",
      "  2048   0.44  'eat eat eat eat eat eat eat eat eat eat eat eat eat eat eat eat eat eat eat eat'\n",
      "  2048   0.50  'eat eat eat eat eat eat eat eat eat eat eat eat eat eat eat eat eat eat eat eat'\n",
      "  2048   0.56  'eat eat eat eat eat eat eat eat eat eat eat eat eat eat eat eat eat eat eat eat'\n",
      "  2048   0.62  'eat eat eat eat eat eat eat eat eat eat eat eat eat eat eat eat eat eat eat eat'\n",
      "  2048   0.69  'eat eat eat eat eat eat eat eat eat eat eat eat eat eat eat eat eat eat eat eat'\n",
      "  2048   0.75  'eat eat eat eat eat eat eat eat eat eat eat eat eat eat eat eat eat eat eat eat'\n",
      "  2048   0.81  'eat eat eat eat eat eat eat eat eat eat eat eat eat eat eat eat eat eat eat eat'\n",
      "  2048   0.88  'eat eat eat eat eat eat eat eat eat eat eat eat eat eat eat eat eat eat eat eat'\n",
      "  2048   0.94  'eat eat eat eat eat eat eat eat eat eat eat eat eat eat eat eat eat eat eat eat'\n",
      "  2048   1.00  'eat eat eat eat eat eat eat eat eat eat eat eat eat eat eat eat eat eat eat eat'\n"
     ]
    }
   ],
   "source": [
    "print(\"Errors (SparQ, 4x):\\n\")\n",
    "print(\"Length  Depth  Output\")\n",
    "dense_errors = set(df.pipe(lambda d: d[(d.name==\"dense\") & (~d.match)]).id)\n",
    "for _, row in (df.pipe(lambda d: d[(d.name==\"ann\") & (d.compression==4)]).pipe(lambda d: d[~d.match & ~d.id.isin(dense_errors)])).iterrows():\n",
    "    print(f\" {row.length + 128:>5}   {row.depth:.2f}  {row.output!r}\")"
   ]
  }
 ],
 "metadata": {
  "kernelspec": {
   "display_name": ".venv",
   "language": "python",
   "name": "python3"
  },
  "language_info": {
   "codemirror_mode": {
    "name": "ipython",
    "version": 3
   },
   "file_extension": ".py",
   "mimetype": "text/x-python",
   "name": "python",
   "nbconvert_exporter": "python",
   "pygments_lexer": "ipython3",
   "version": "3.10.12"
  }
 },
 "nbformat": 4,
 "nbformat_minor": 2
}
