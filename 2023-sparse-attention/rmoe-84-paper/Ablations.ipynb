{
 "cells": [
  {
   "cell_type": "code",
   "execution_count": 1,
   "id": "03c8607c-74ce-4a74-8ac4-71827931d4e5",
   "metadata": {},
   "outputs": [],
   "source": [
    "# %%sh\n",
    "# sudo apt install fonts-cmu texlive-latex-extra cm-super dvipng"
   ]
  },
  {
   "cell_type": "markdown",
   "id": "70ca9aaa-2882-430d-a422-18126983d5f9",
   "metadata": {},
   "source": [
    "Imports and package configurations"
   ]
  },
  {
   "cell_type": "code",
   "execution_count": 2,
   "id": "c12a0379-af86-48b3-a0a6-047ed630452d",
   "metadata": {},
   "outputs": [
    {
     "name": "stderr",
     "output_type": "stream",
     "text": [
      "findfont: Font family ['CMU Serif'] not found. Falling back to DejaVu Sans.\n"
     ]
    }
   ],
   "source": [
    "import copy\n",
    "import matplotlib\n",
    "import matplotlib.pyplot as plt\n",
    "import numpy as np\n",
    "import os \n",
    "import pandas as pd\n",
    "import seaborn as sns\n",
    "import sys\n",
    "from typing import *\n",
    "import wandb\n",
    "import wandb.apis\n",
    "\n",
    "sns.set_context(\"paper\", font_scale=1.5)\n",
    "matplotlib.rc('font', **{'family': 'serif', 'serif': [\"CMU Serif\"]})\n",
    "matplotlib.rc('text', usetex=True)\n",
    "matplotlib.font_manager.findfont(\"CMU Serif\", rebuild_if_missing=True)\n",
    "matplotlib.rcParams['text.latex.preamble'] = r'\\usepackage{bm} \\usepackage{amsmath}'\n",
    "\n",
    "if not os.path.exists(\"./out\"):\n",
    "    os.makedirs(\"./out\")"
   ]
  },
  {
   "cell_type": "markdown",
   "id": "bdea7d06-0ed7-4a57-8131-c87f5d189224",
   "metadata": {},
   "source": [
    "Functionality for loading and processing result data"
   ]
  },
  {
   "cell_type": "code",
   "execution_count": 3,
   "id": "8b793606-02e9-4bde-a444-1e9dc377c8c1",
   "metadata": {},
   "outputs": [],
   "source": [
    "def load_one(run: wandb.apis.public.Run) -> Dict[str, Any]:\n",
    "    if \"count\" in run.summary and run.notes != \"buggy\" and run.id != \"dt7fl1ho\":\n",
    "        task = run.config[\"task\"][\"name\"]\n",
    "        mc = run.summary[\"model_config\"]\n",
    "        score_key = dict(\n",
    "            squad=\"match\",\n",
    "            triviaqa=\"match\",\n",
    "            cnn_dailymail=\"rougeL\",\n",
    "            wikitext_bpc=\"bpc\",\n",
    "            repetition=\"match_length_char\",\n",
    "        )[task]\n",
    "        sparsity = copy.deepcopy(run.config[\"sparsity\"])\n",
    "        sparsity[\"method\"] = sparsity.pop(\"score\", None)\n",
    "        scores = [r[score_key] for r in run.summary[\"results\"]]\n",
    "        return dict(\n",
    "            id=run.id,\n",
    "            task=task,\n",
    "            model=run.config[\"model\"].split(\"/\")[1].replace(\"-hf\", \"\").lower(),\n",
    "            n_heads=mc[\"num_attention_heads\"] * mc[\"num_hidden_layers\"],\n",
    "            head_size=mc[\"hidden_size\"]//mc[\"num_attention_heads\"],\n",
    "            **sparsity,\n",
    "            prefill_length=run.summary[\"prefill_length\"],\n",
    "            score=np.mean(scores),\n",
    "            score_stderr=np.sqrt(np.var(scores) / len(scores)),\n",
    "        )\n",
    "\n",
    "\n",
    "def load_sweep(experiment_name: str, *single_runs: str) -> pd.DataFrame:\n",
    "    return pd.DataFrame.from_dict(filter(None, (\n",
    "        load_one(run)\n",
    "        for run in api.runs(\n",
    "            \"research/sparse-attention\", {\"$or\": [\n",
    "                {\"config.name\": experiment_name},\n",
    "                *({\"display_name\": n} for n in single_runs)\n",
    "            ]}\n",
    "        )\n",
    "    )))\n",
    "\n",
    "\n",
    "def memory_transfers_attention_only(s: pd.Series, count_kv: bool = True, count_index: bool = True) -> int:\n",
    "    kv_elements, index_elements = 0, 0  # per-head\n",
    "    if s[\"name\"] == \"dense\":\n",
    "        # write 1*(k, v) + read all prefill_length*(k, v)\n",
    "        kv_elements = (2 + 2 * s[\"prefill_length\"]) * s[\"head_size\"]\n",
    "\n",
    "    elif s[\"name\"] == \"sparse_v\":\n",
    "        # write 1*(k, v) + read all prefill_length*k + read sparse_k*v\n",
    "        kv_elements = (2 + s[\"prefill_length\"] + s[\"k\"]) * s[\"head_size\"]\n",
    "\n",
    "    elif s[\"name\"] == \"local\":\n",
    "        # write 1*(k, v) + read sparse_k*v\n",
    "        kv_elements = (2 + 2 * s[\"k\"]) * s[\"head_size\"]\n",
    "\n",
    "    elif s[\"name\"] == \"eviction\":\n",
    "        # write 1*(k, v) + read all sparse_k*(k, v)\n",
    "        kv_elements = (2 + 2 * s[\"k\"]) * s[\"head_size\"]\n",
    "        # read/write scores\n",
    "        index_elements = (1 + 2 * s[\"prefill_length\"])\n",
    "\n",
    "    elif s[\"name\"] in [\"ann\", \"low_rank\", \"sparq\", \"sparse_q\"]:\n",
    "        # write 1*(k, v) + read all sparse_k*(k, v)\n",
    "        kv_elements = (2 + 2 * s[\"k\"]) * s[\"head_size\"]\n",
    "        # read/write index\n",
    "        index_elements = s[\"head_size\"] + s[\"prefill_length\"] * s[\"rank\"]\n",
    "        if s[\"reallocate_to_mean_value\"]:\n",
    "            index_elements += 2 * s[\"head_size\"]\n",
    "\n",
    "    elif s[\"name\"] == \"oracle\":\n",
    "        # write 1*(k, v) + read all sparse_k*(k, v)\n",
    "        kv_elements = (2 + 2 * s[\"k\"]) * s[\"head_size\"]\n",
    "        # read/write mean_v\n",
    "        index_elements = 2 * s[\"head_size\"]\n",
    "    else:\n",
    "        assert False, s[\"name\"]\n",
    "\n",
    "    return (count_kv * kv_elements + count_index * index_elements) * s[\"n_heads\"]\n",
    "\n",
    "\n",
    "def memory_transfers(d):\n",
    "    return d.assign(transfers=d.apply(memory_transfers_attention_only, axis=1))\n",
    "    \n",
    "\n",
    "def add_dense_as_sparse(df: pd.DataFrame, attribute: str = \"name\") -> pd.DataFrame:\n",
    "    \"\"\"Add 'dense' as if it were a sparse technique.\n",
    "    Note that this only gives it the sparse 'name' string (not k, etc).\n",
    "    \"\"\"\n",
    "    def _map(g: pd.DataFrame) -> pd.DataFrame:\n",
    "        g_dense = g[g[\"name\"]==\"dense\"]\n",
    "        if len(g_dense) != 1:\n",
    "            print(f\"Warning: multiple dense results found for {g.task.iloc[0]}, {g.model.iloc[0]}\", file=sys.stderr)\n",
    "        return (g.groupby(\"name\")\n",
    "                # .apply(lambda gg: gg if gg.name==\"dense\" else pd.concat([gg, g_dense.assign(**{attribute: gg[attribute]})]))\n",
    "                .apply(lambda gg: gg if gg.name==\"dense\" else pd.concat([gg, g_dense.assign(name=gg.name)]))\n",
    "                .reset_index(drop=True))\n",
    "    return df.groupby([\"task\", \"model\"]).apply(_map).reset_index(drop=True)"
   ]
  },
  {
   "cell_type": "markdown",
   "id": "1aaec9ee-6c30-44e0-8389-19b900829ebe",
   "metadata": {},
   "source": [
    "Load the Weights and Biases API to retrieve the latest results"
   ]
  },
  {
   "cell_type": "code",
   "execution_count": 4,
   "id": "6ebc9bce-9ef1-4f15-bb88-ff874dbb128f",
   "metadata": {},
   "outputs": [],
   "source": [
    "api = wandb.Api()"
   ]
  },
  {
   "cell_type": "markdown",
   "id": "52546b75-1aeb-45a9-a2b7-2a091c443c91",
   "metadata": {},
   "source": [
    "## Ablation I: Key Cache Compression\n",
    "#### This ablation compares SparQ Attention against a hypothetical Orcale (which is modelled as being able to identify the exact top-k key indices without any data transfer)"
   ]
  },
  {
   "cell_type": "markdown",
   "id": "3f4faf6f-0f86-4220-80ba-3c19e33a2b11",
   "metadata": {},
   "source": [
    "Load the relevant sweeps and experiments"
   ]
  },
  {
   "cell_type": "code",
   "execution_count": 5,
   "id": "a6257c9e-d39c-4375-8558-3c003ad72997",
   "metadata": {},
   "outputs": [],
   "source": [
    "oracle_df = (load_sweep(\"RMOE-71-ablations-oracle-nearest-neighbors\")\n",
    "    .pipe(lambda d: d.assign(name=\"oracle\"))\n",
    ")\n",
    "\n",
    "low_rank_df = (load_sweep(\"RMOE-71-ablations-low-ranks-v5-no-reallocation\")\n",
    "    .pipe(lambda d: d.assign(name=\"low_rank\"))\n",
    "    .pipe(lambda d: d.loc[d[\"rank\"] == 16])\n",
    ")\n",
    "\n",
    "sparq_df = (\n",
    "    pd.concat([\n",
    "        load_sweep(\"RMOE-68-workshop-sweep\"),\n",
    "        load_sweep(\"RMOE-68-lower-r\"),\n",
    "    ])\n",
    "    .pipe(lambda d: d.loc[d[\"method\"] == \"sparse_q\"])\n",
    "    .pipe(lambda d: d.loc[d[\"task\"] == \"squad\"])\n",
    "    .pipe(lambda d: d.loc[d[\"model\"] == \"llama-2-7b\"])\n",
    "    .pipe(lambda d: d.loc[d[\"k\"] == 128])\n",
    "    .pipe(lambda d: d.assign(name=\"sparq\"))\n",
    ")\n",
    "\n",
    "dense_df = (load_sweep(\"RMOE-68-workshop-sweep\")\n",
    "    .pipe(lambda d: d.loc[d[\"name\"] == \"dense\"])\n",
    "    .pipe(lambda d: d.loc[d[\"task\"] == \"squad\"])\n",
    "    .pipe(lambda d: d.loc[d[\"model\"] == \"llama-2-7b\"])    \n",
    ")\n",
    "\n",
    "df = pd.concat([oracle_df, low_rank_df, sparq_df, dense_df])\n",
    "df = add_dense_as_sparse(df.pipe(memory_transfers))"
   ]
  },
  {
   "cell_type": "markdown",
   "id": "ea38cd01-0d00-4061-87f0-7d7c1ac2e132",
   "metadata": {},
   "source": [
    "Define the plotting functionality for the first ablation"
   ]
  },
  {
   "cell_type": "code",
   "execution_count": 6,
   "id": "039f1121-5b34-42c7-a285-1be49dcf91b9",
   "metadata": {},
   "outputs": [
    {
     "data": {
      "image/png": "[encoded data removed]",
      "text/plain": [
       "<Figure size 550x200 with 1 Axes>"
      ]
     },
     "metadata": {},
     "output_type": "display_data"
    }
   ],
   "source": [
    "TASK_LABELS = {\n",
    "    \"squad\": \"SQuAD Accuracy\", \n",
    "    \"cnn_dailymail\": \"CNN/DailyMail ROUGE-L\",\n",
    "    \"triviaqa\": \"TriviaQA Accuracy\",\n",
    "    \"wikitext_bpc\": \"WikiText-$103$ BPC\",\n",
    "    \"repetition\": \"Repetition\\nmatch length\",\n",
    "}\n",
    "\n",
    "STYLES = {\n",
    "    \"oracle\": {\n",
    "        \"color\": sns.color_palette()[8],\n",
    "        \"marker\": \"*\",\n",
    "        \"label\": \"Oracle\",\n",
    "    },\n",
    "    \"sparq\": {\n",
    "        \"color\": sns.color_palette()[0],\n",
    "        \"marker\": \"o\",\n",
    "        \"label\": \"SparQ\",\n",
    "    },\n",
    "    \"low_rank\": {\n",
    "        \"color\": sns.color_palette()[4],\n",
    "        \"marker\": \"s\",\n",
    "        \"label\": \"Low Rank\",\n",
    "    },\n",
    "}\n",
    "\n",
    "\n",
    "def plot_ablation_1(model: str, task: str, ax: matplotlib.axes.Axes) -> None:\n",
    "    dense = df[df.name == \"dense\"].iloc[0]\n",
    "    \n",
    "    for name, style in STYLES.items():\n",
    "        data = df[df.name == name].sort_values(\"transfers\")\n",
    "        lower = data.score - data.score_stderr\n",
    "        upper = data.score + data.score_stderr\n",
    "        fill_style = {\"color\": style[\"color\"], \"alpha\": 0.4}\n",
    "        ax.fill_between(data.transfers, lower, upper, **fill_style)\n",
    "        ax.scatter(data.transfers, data.score, s=40, **style)\n",
    "        \n",
    "    ax.set_xscale(\"log\", base=2)\n",
    "    ax.xaxis.set_major_formatter(lambda x, _: f\"{x/2**20:.0f}\")\n",
    "    ax.set_xlim((dense.transfers * 1.1, dense.transfers / 64))\n",
    "    ax.set_xlabel(\"Attention transfers per token (MB)\", fontsize=10)\n",
    "    ax.set_ylabel(TASK_LABELS[task], fontsize=10)\n",
    "    ax.legend(frameon=False, ncols=1, handletextpad=0.1, bbox_to_anchor=(1, 1))\n",
    "    ax.set_ylim((0.45, 0.8))\n",
    "    ax.set_yticks([0.5, 0.6, 0.7, 0.8])\n",
    "    ax.tick_params(axis='both', which='major', labelsize=10)\n",
    "\n",
    "\n",
    "plt.figure(figsize=(5.5, 2))\n",
    "ax = plt.gca()\n",
    "plot_ablation_1(\"llama-2-7b\", \"squad\", ax=ax)\n",
    "sns.despine()\n",
    "plt.tight_layout()\n",
    "plt.savefig(f\"out/key_cache_compression.pdf\", bbox_inches=\"tight\")"
   ]
  },
  {
   "cell_type": "markdown",
   "id": "165f6a28-e0f2-452d-a6e3-0fe747504a7c",
   "metadata": {},
   "source": [
    "## Ablation II: Approximate Softmax Temperature Investigation\n",
    "#### This ablation investigates different softmax temperatures used in Step 1 of SparQ Attention, which influences the mass reallocated to the mean value vector."
   ]
  },
  {
   "cell_type": "markdown",
   "id": "0c00c13f-3f57-4a87-9b95-63c85d949196",
   "metadata": {},
   "source": [
    "Load and format the relevant sweep"
   ]
  },
  {
   "cell_type": "code",
   "execution_count": 7,
   "id": "d038d626-4d6f-4eeb-9e6a-b178b0210eae",
   "metadata": {},
   "outputs": [],
   "source": [
    "df = load_sweep(\"RMOE-71-ablations-sparq-scale-sweep-v2\")\n",
    "df = df[df.model == \"llama-2-7b\"]\n",
    "df[\"scale_type\"].fillna(\"lim_0\", inplace=True)"
   ]
  },
  {
   "cell_type": "markdown",
   "id": "746594e5-9fe1-476a-a639-af5cbc8eac4a",
   "metadata": {},
   "source": [
    "Define the plotting functionality for the second ablation"
   ]
  },
  {
   "cell_type": "code",
   "execution_count": 8,
   "id": "34474d88-d596-4023-a036-ad6a7246dc73",
   "metadata": {},
   "outputs": [
    {
     "data": {
      "image/png": "[encoded data removed]",
      "text/plain": [
       "<Figure size 550x200 with 1 Axes>"
      ]
     },
     "metadata": {},
     "output_type": "display_data"
    }
   ],
   "source": [
    "SETUP_WIDTH = 0.5\n",
    "SETUP_SPACING = 0.5\n",
    "STDERR_WIDTH = 0.025\n",
    "OVERHANG = 0.2\n",
    "\n",
    "STYLES = {\n",
    "    \"lim_0\": {\n",
    "        \"color\": sns.color_palette()[0],\n",
    "        \"label\": r\"$\\lim_{x \\rightarrow 0} x$\",\n",
    "    },\n",
    "    \"rank\": {\n",
    "        \"color\": sns.color_palette()[1],\n",
    "        \"label\": r\"$\\sqrt{r}$\", \n",
    "    },\n",
    "    \"l1\": {\n",
    "        \"color\": sns.color_palette()[2],\n",
    "        \"label\": r\"$\\sqrt{d_h\\displaystyle\\frac{\\lVert\\bm{q}\\circ\\bm{m_q}\\rVert_1}{\\lVert\\bm{q}\\rVert_1}}$\",\n",
    "    },\n",
    "    \"head_size\": {\n",
    "        \"color\": sns.color_palette()[3],\n",
    "        \"label\": r\"$\\sqrt{d_h}$\", \n",
    "    },\n",
    "}\n",
    "\n",
    "\n",
    "def plot_ablation_2(configs: List[Dict], ax: matplotlib.axes.Axes) -> None:\n",
    "    x_locs, x_labels = [], []\n",
    "    \n",
    "    for config_index, config in enumerate(configs):\n",
    "        k, rank = config[\"k\"], config[\"rank\"]\n",
    "        \n",
    "        x_start = config_index * (SETUP_WIDTH + SETUP_SPACING)\n",
    "        x_end = x_start + SETUP_WIDTH\n",
    "        xs = np.linspace(x_start, x_end, 4)        \n",
    "        x_locs += [x_start + SETUP_WIDTH / 2]\n",
    "        x_labels += [r\"\\large\" + f\"$k={k}, r={rank}$\"] \n",
    "        \n",
    "        data = df[(df[\"k\"] == k) & (df[\"rank\"] == rank)]\n",
    "  \n",
    "        for x, (scale_type, style) in zip(xs, STYLES.items()):\n",
    "            result = data[data[\"scale_type\"] == scale_type]\n",
    "            result = result.to_dict(\"records\")[0]\n",
    "\n",
    "            lower = result[\"score\"] - result[\"score_stderr\"]\n",
    "            upper = result[\"score\"] + result[\"score_stderr\"]\n",
    "            ax.plot([x, x], [lower, upper], color=\"k\", linewidth=0.6)\n",
    "            for bound in [lower, upper]:\n",
    "                bound_x = [x - STDERR_WIDTH, x + STDERR_WIDTH]\n",
    "                bound_y = [bound, bound]\n",
    "                ax.plot(bound_x, bound_y, color=\"k\", linewidth=0.6)\n",
    "            if config_index:\n",
    "                style.pop(\"label\")\n",
    "            ax.scatter(x, result[\"score\"], **style, zorder=2, s=40)\n",
    "                       \n",
    "    ax.set_xticks(x_locs, x_labels, fontsize=10)\n",
    "    ax.tick_params(axis=u'x', which=u'both',length=0, pad=5)\n",
    "    ax.tick_params(axis=u'y', which=u'major', labelsize=10)\n",
    "    ax.legend(frameon=False, bbox_to_anchor=(0.95, 1), handletextpad=0.1, fontsize=11)\n",
    "    ax.set_ylim([0.61, 0.78])\n",
    "    ax.set_ylabel(\"SQuAD Accuracy\", fontsize=10)\n",
    "    ax.set_xlim([-OVERHANG, x + OVERHANG])\n",
    "\n",
    "plt.figure(figsize=(5.5, 2))\n",
    "ax = plt.gca()\n",
    "plot_ablation_2([{\"k\": 128, \"rank\": 32}, {\"k\": 128, \"rank\": 64}], ax=ax)\n",
    "sns.despine()\n",
    "plt.tight_layout()\n",
    "plt.savefig(f\"out/softmax_temperature.pdf\", bbox_inches=\"tight\")"
   ]
  },
  {
   "cell_type": "markdown",
   "id": "5ed1881e-cc12-49b3-98b6-c47472da342d",
   "metadata": {},
   "source": [
    "## Ablation III: Recipe\n",
    "#### This ablation investigates different configurations of k and rank to determine what the best rule of thumb is to attain a good tradeoff between performance and data-transfer."
   ]
  },
  {
   "cell_type": "markdown",
   "id": "277b39d6-60bd-4f40-84a3-69fb835909ea",
   "metadata": {},
   "source": [
    "Load relevant results and format them into a Pandas DataFrame"
   ]
  },
  {
   "cell_type": "code",
   "execution_count": 9,
   "id": "3be7bca3-9cd7-4b36-a894-40a9653b740a",
   "metadata": {},
   "outputs": [],
   "source": [
    "SWEEPS = [\"RMOE-68-workshop-sweep\", \"RMOE-71-ablations-recipe-k=32-and-256\"]\n",
    "MODELS = [\"llama-2-7b\"]\n",
    "TASKS = [\"repetition\", \"squad\"]\n",
    "\n",
    "df = pd.concat([\n",
    "    load_sweep(sweep)\n",
    "        .pipe(lambda d: d[d[\"name\"].isin([\"ann\", \"dense\"])])\n",
    "        .pipe(lambda d: d[d[\"model\"].isin(MODELS)])\n",
    "        .pipe(lambda d: d[d[\"task\"].isin(TASKS)])\n",
    "        .pipe(memory_transfers)\n",
    "    for sweep in SWEEPS\n",
    "])"
   ]
  },
  {
   "cell_type": "markdown",
   "id": "b2a44098-959b-4cd1-9239-e6acc5733c50",
   "metadata": {},
   "source": [
    "Define the plotting functionality for the third ablation"
   ]
  },
  {
   "cell_type": "code",
   "execution_count": 10,
   "id": "9b0b7795-4238-43f8-a461-3a3309164082",
   "metadata": {},
   "outputs": [
    {
     "data": {
      "image/png": "[encoded data removed]",
      "text/plain": [
       "<Figure size 550x200 with 2 Axes>"
      ]
     },
     "metadata": {},
     "output_type": "display_data"
    }
   ],
   "source": [
    "\n",
    "def plot_ablation_3(model: str, task: str, ax: matplotlib.axes.Axes) -> None:\n",
    "    data = add_dense_as_sparse(df[(df.model == model) & (df.task == task)])\n",
    "    \n",
    "    dense = data[data.name == \"dense\"].iloc[0]\n",
    "    lower = dense.score - dense.score_stderr\n",
    "    upper = dense.score + dense.score_stderr\n",
    "    dense_fill_x = [dense.transfers * 1.1, dense.transfers / 14]\n",
    "    dense_fill_y = [[lower, lower], [upper, upper]]\n",
    "    dense_fill_kwargs = {\"color\": \"k\", \"alpha\": 0.2, \"zorder\": -2}\n",
    "    dense_plot_kwargs = {\"color\": \"k\", \"linestyles\": \"--\", \"zorder\": -1}\n",
    "    ax.fill_between(dense_fill_x, *dense_fill_y, **dense_fill_kwargs)\n",
    "    ax.hlines(dense.score, *dense_fill_x, **dense_plot_kwargs)\n",
    "\n",
    "    ks = map(int, sorted(set(data[data[\"rank\"] > 0][\"k\"])))\n",
    "    for k, color in zip(ks, sns.color_palette()):\n",
    "        k_data = data[data[\"k\"] == k].sort_values(\"transfers\")\n",
    "        lower = k_data.score - k_data.score_stderr\n",
    "        upper = k_data.score + k_data.score_stderr\n",
    "        ann_fill_kwargs = {\"color\": color, \"alpha\": 0.4}\n",
    "        ann_plot_kwargs = {\"color\": color, \"s\": 40, \"label\": f\"$k={k}$\"}\n",
    "        ax.fill_between(k_data.transfers, lower, upper, **ann_fill_kwargs)\n",
    "        ax.scatter(k_data.transfers, k_data.score, **ann_plot_kwargs)\n",
    "\n",
    "    ax.set_xscale(\"log\", base=2)\n",
    "    ax.xaxis.set_major_formatter(lambda x, _: f\"{x/2**20:.0f}\")\n",
    "    ax.tick_params(axis='x', which='major', labelsize=10)\n",
    "    ax.set_xlim([2 ** 27.7, 2 ** 25])\n",
    "    ax.set_ylim({\"squad\": [0.45, 0.8], \"repetition\": [0, 220]}[task])\n",
    "    ax.set_xlabel(\"Transfers (MB)\", fontsize=10)\n",
    "    ax.set_ylabel(TASK_LABELS[task], fontsize=10)\n",
    "    ax.tick_params(axis='y', which='major', labelsize=10)\n",
    "\n",
    "\n",
    "fig, axs = plt.subplots(len(MODELS), len(TASKS), figsize=(5.5, 2), squeeze=False)\n",
    "for axr, model in zip(axs, MODELS):\n",
    "    for ax, task in zip(axr, TASKS):\n",
    "        plot_ablation_3(model, task, ax)\n",
    "\n",
    "_ = ax.legend(frameon=False, ncols=1, handletextpad=0.1, bbox_to_anchor=(0.93, 1))\n",
    "sns.despine()\n",
    "plt.tight_layout()"
   ]
  },
  {
   "cell_type": "code",
   "execution_count": null,
   "id": "b02500ef-9d34-4a3e-a0fb-ada5f9cba0cb",
   "metadata": {},
   "outputs": [],
   "source": []
  }
 ],
 "metadata": {
  "kernelspec": {
   "display_name": "Python 3 (ipykernel)",
   "language": "python",
   "name": "python3"
  },
  "language_info": {
   "codemirror_mode": {
    "name": "ipython",
    "version": 3
   },
   "file_extension": ".py",
   "mimetype": "text/x-python",
   "name": "python",
   "nbconvert_exporter": "python",
   "pygments_lexer": "ipython3",
   "version": "3.11.4"
  }
 },
 "nbformat": 4,
 "nbformat_minor": 5
}
