{
 "cells": [
  {
   "cell_type": "code",
   "execution_count": 2,
   "metadata": {},
   "outputs": [],
   "source": [
    "from typing import *\n",
    "import wandb\n",
    "import numpy as np\n",
    "\n",
    "import llminference as L\n",
    "\n",
    "api = wandb.Api()\n",
    "def get_run(id: str) -> wandb.apis.public.Run:\n",
    "    return api.run(f\"research/sparse-attention/runs/{id}\")"
   ]
  },
  {
   "cell_type": "code",
   "execution_count": 76,
   "metadata": {},
   "outputs": [],
   "source": [
    "# From Figures.ipynb\n",
    "run_ids = {'cnn_dailymail': ['jhtdsu6v', '3hdqdvcz', 'urvfe4ei', 'mut4eolt'],\n",
    " 'repetition': ['9j21fmm7', 'tjca3tkr', '16ku5vpv', 'zubzr9ia'],\n",
    " 'squad': ['e7v9cgwr', '0coy8ku5', '8fizgrac', '87whg2yy'],\n",
    " 'triviaqa': ['zv7j4ilf', 'wwjvwthe', '8rr6ck8u', 'vswqd0gn'],\n",
    " 'wikitext_bpc': ['l3ljj1h2', 'ulnw8eij', '37tikal9', 'mqeq0k3b']}\n",
    "\n",
    "display_name = dict(\n",
    "    dense=\"DENSE\",\n",
    "    ann=\"SPARQ\",\n",
    "    eviction=\"H2O\",\n",
    "    local=\"LM-INFINITE\",\n",
    ")\n",
    "\n",
    "for _, ids in run_ids.items():\n",
    "    ids.sort(key=lambda id: list(display_name.keys()).index(get_run(id).config[\"sparsity\"][\"name\"]))"
   ]
  },
  {
   "cell_type": "code",
   "execution_count": 178,
   "metadata": {},
   "outputs": [],
   "source": [
    "def shorten(text: str, length: int) -> str:\n",
    "    return text if len(text) <= length else text[:length] + \"...\"\n",
    "\n",
    "def show_example(example: Dict[str, Any], task: str):\n",
    "    results = []\n",
    "    for id in run_ids[task]:\n",
    "        m = [r for r in get_run(id).summary.results if r[\"id\"] == example[\"id\"]]\n",
    "        if len(m) > 2 if task == \"triviaqa\" else len(m) != 1:\n",
    "            raise ValueError(f\"Multiple matching results for {example['id']}\")\n",
    "        results.append(m[0])\n",
    "\n",
    "    key = dict(squad=\"match\", triviaqa=\"match\", cnn_dailymail=\"rougeL\", wikitext_bpc=\"bpc\", repetition=\"match_length_char\")[task]\n",
    "    print({get_run(id).config[\"sparsity\"][\"name\"]: r[key] for id, r in zip(run_ids[task], results)})\n",
    "    print()\n",
    "    print(f\"### PROMPT ({example['id']})\")\n",
    "    if task == \"cnn_dailymail\":\n",
    "        print(shorten(example[\"context\"], 80) + L.tasks.summarisation.DEFAULT_PROMPT)\n",
    "    elif task == \"repetition\":\n",
    "        offset = example[\"context\"].index(example[\"prompt\"])\n",
    "        lines = example[\"context\"].split(\"\\n\")\n",
    "        line_offset = np.cumsum([len(line) + 1 for line in lines])\n",
    "        line_index = (line_offset < offset).sum()\n",
    "        print(\"\\n\".join(lines[:2] + [\"...\", \"...\"] + lines[line_index:][:10] + [\"...\", \"...\"])\n",
    "              + L.tasks.repetition.PROMPT_PREFIX + example[\"prompt\"])\n",
    "    elif task == \"triviaqa\":\n",
    "        lines = example[\"context\"].replace(\"\\n\\n\", \"\\n\").split(\"\\n\")\n",
    "        print(\"\\n\".join(shorten(s, 50) for s in lines[:5] + [\"...\", \"...\"] + lines[-5:]))\n",
    "        print(example[\"prompt\"])\n",
    "    elif task == \"squad\":\n",
    "        lines = example[\"context\"].split(\"\\n\")\n",
    "        print(\"\\n\".join(shorten(s, 50) for s in lines[:-1]) + \"\\n\" + lines[-1])\n",
    "        print(example[\"prompt\"])\n",
    "    print()\n",
    "    print(\"### OUTPUT\")\n",
    "    for id, result in zip(run_ids[task], results):\n",
    "        out = shorten(result[\"output\"].split(\"\\n\")[0], 75)\n",
    "        print(f'{display_name[get_run(id).config[\"sparsity\"][\"name\"]]:>11}: {out}')\n"
   ]
  },
  {
   "cell_type": "markdown",
   "metadata": {},
   "source": [
    "# SQuAD"
   ]
  },
  {
   "cell_type": "code",
   "execution_count": 78,
   "metadata": {},
   "outputs": [
    {
     "name": "stdout",
     "output_type": "stream",
     "text": [
      "{'dense': True, 'ann': True, 'eviction': False, 'local': False}\n",
      "\n",
      "### PROMPT (5725e1c4271a42140099d2d9)\n",
      "Title: University of Chicago. Background: Current ...\n",
      "Title: Harvard University. Background: Harvard has...\n",
      "Title: Oxygen. Background: In one experiment, Lavo...\n",
      "Title: Oxygen. Background: Oxygen storage methods ...\n",
      "Title: Fresno, California. Background: This vibran...\n",
      "Title: Fresno, California. Background: Before Worl...\n",
      "Title: Steam engine. Background: The working fluid...\n",
      "Title: Sky (United Kingdom). Background: While BSk...\n",
      "From what you've just read about Fresno, California, please answer the following questions.\n",
      "Question: Where is Audra McDonald from?\n",
      "Answer: Fresno\n",
      "Question: In what year did Roger Rocka's Dinner Theater & Good Company Players open?\n",
      "Answer:\n",
      "\n",
      "### OUTPUT\n",
      "      DENSE: 1978\n",
      "      SPARQ: 1978\n",
      "        H2O: 1979\n",
      "LM-INFINITE: 1975 (Roger Rock\n"
     ]
    }
   ],
   "source": [
    "index = 51  # 26, 51\n",
    "show_example(\n",
    "    L.tasks.qa.add_few_shot_prompt(L.tasks.qa.SQuAD.data()[index], k=1, prompt_template=L.tasks.qa.get_default_prompt_template(\"meta-llama/Llama-2-13b-hf\", shots=1)),\n",
    "    \"squad\",\n",
    ")"
   ]
  },
  {
   "cell_type": "markdown",
   "metadata": {},
   "source": [
    "# TriviaQA"
   ]
  },
  {
   "cell_type": "code",
   "execution_count": 152,
   "metadata": {},
   "outputs": [
    {
     "data": {
      "application/vnd.jupyter.widget-view+json": {
       "model_id": "baf80bbb2d6d46838b15317e5d1a2b58",
       "version_major": 2,
       "version_minor": 0
      },
      "text/plain": [
       "Resolving data files:   0%|          | 0/26 [00:00<?, ?it/s]"
      ]
     },
     "metadata": {},
     "output_type": "display_data"
    },
    {
     "data": {
      "application/vnd.jupyter.widget-view+json": {
       "model_id": "c332934191d34c64aa6a1284e45033e3",
       "version_major": 2,
       "version_minor": 0
      },
      "text/plain": [
       "Resolving data files:   0%|          | 0/26 [00:00<?, ?it/s]"
      ]
     },
     "metadata": {},
     "output_type": "display_data"
    },
    {
     "data": {
      "application/vnd.jupyter.widget-view+json": {
       "model_id": "406cde2cab2848cab9bdaae850198206",
       "version_major": 2,
       "version_minor": 0
      },
      "text/plain": [
       "Resolving data files:   0%|          | 0/19 [00:00<?, ?it/s]"
      ]
     },
     "metadata": {},
     "output_type": "display_data"
    },
    {
     "data": {
      "application/vnd.jupyter.widget-view+json": {
       "model_id": "053b3d22df7b40e8b01839e7b2f2e9f6",
       "version_major": 2,
       "version_minor": 0
      },
      "text/plain": [
       "Resolving data files:   0%|          | 0/47 [00:00<?, ?it/s]"
      ]
     },
     "metadata": {},
     "output_type": "display_data"
    },
    {
     "name": "stdout",
     "output_type": "stream",
     "text": [
      "{'dense': True, 'ann': True, 'eviction': True, 'local': False}\n",
      "\n",
      "### PROMPT (dpql_5685)\n",
      "Apéritifs and digestifs ( and) are drinks, typical...\n",
      "Apéritifs\n",
      "An apéritif is an alcoholic beverage usually serve...\n",
      "\"Apéritif\" may also refer to a snack that precedes...\n",
      "\"Apéritif\" is a French word derived from the Latin...\n",
      "...\n",
      "...\n",
      "* Distilled liquors (ouzo, tequila, whisky or akva...\n",
      "* Liquor cocktails (Black Russian, Rusty Nail, etc...\n",
      "In certain areas, it is not uncommon for a digesti...\n",
      "Bitter digestifs typically contain carminative her...\n",
      "In many countries, people drink alcoholic beverage...\n",
      "Question: Which aperitif is named for the Paris chemist who created it in 1846?\n",
      "Answer:\n",
      "\n",
      "### OUTPUT\n",
      "      DENSE: Dubonnet\n",
      "      SPARQ: Dubonnet\n",
      "        H2O: Dubonnet\n",
      "LM-INFINITE: Byrrh\n"
     ]
    }
   ],
   "source": [
    "index = 9  # 22\n",
    "example = L.tasks.qa.add_few_shot_prompt(L.tasks.qa.TriviaQA.data(context=\"wiki\")[index], k=0, prompt_template=L.tasks.qa.get_default_prompt_template(\"meta-llama/Llama-2-13b-hf\", shots=0))\n",
    "show_example(example, \"triviaqa\")"
   ]
  },
  {
   "cell_type": "markdown",
   "metadata": {},
   "source": [
    "# CNN/DailyMail"
   ]
  },
  {
   "cell_type": "code",
   "execution_count": 176,
   "metadata": {},
   "outputs": [
    {
     "name": "stdout",
     "output_type": "stream",
     "text": [
      "{'dense': 0.2653061224489796, 'ann': 0.2653061224489796, 'eviction': 0.24242424242424243, 'local': 0.24489795918367346}\n",
      "\n",
      "### PROMPT (a62bbf503be06e8b1f8baa4f3cd537310d5aa3bc)\n",
      "Article: Prince William arrived in China tonight for one of the most high-profil...\n",
      "Summary:\n",
      "\n",
      "### OUTPUT\n",
      "      DENSE: Prince William arrived in China tonight for one of the most high-profile – ...\n",
      "      SPARQ: Prince William arrived in China tonight for one of the most high-profile – ...\n",
      "        H2O: Prince William arrived in China tonight for a high-profile visit that will ...\n",
      "LM-INFINITE: Prince William and Kate Middleton are in Japan for a three-day tour. The ro...\n"
     ]
    }
   ],
   "source": [
    "index = 18  # 7 9\n",
    "show_example(L.tasks.summarisation.CnnDailymail.data()[index], \"cnn_dailymail\")"
   ]
  },
  {
   "cell_type": "markdown",
   "metadata": {},
   "source": [
    "# Repetition"
   ]
  },
  {
   "cell_type": "code",
   "execution_count": 194,
   "metadata": {},
   "outputs": [
    {
     "name": "stdout",
     "output_type": "stream",
     "text": [
      "{'dense': 257, 'ann': 162, 'eviction': 4, 'local': 0}\n",
      "\n",
      "### PROMPT (210496)\n",
      " you mistake me much;\n",
      "I do lament the sickness of the king.\n",
      "...\n",
      "...\n",
      "Peace, children, peace! the king doth love you well:\n",
      "Incapable and shallow innocents,\n",
      "You cannot guess who caused your father's death.\n",
      "\n",
      "Boy:\n",
      "Grandam, we can; for my good uncle Gloucester\n",
      "Told me, the king, provoked by the queen,\n",
      "Devised impeachments to imprison him :\n",
      "And when my uncle told me so, he wept,\n",
      "And hugg'd me in his arm, and kindly kiss'd my cheek;\n",
      "...\n",
      "...\n",
      " the king doth love you well:\n",
      "Incapable and shallow innocents,\n",
      "You cannot guess who caused your father's death.\n",
      "\n",
      "Boy:\n",
      "Grandam, we\n",
      "\n",
      "### OUTPUT\n",
      "      DENSE: can; for my good uncle Gloucester\n",
      "      SPARQ: can; for my good uncle Gloucester\n",
      "        H2O: can;\n",
      "LM-INFINITE: 'll not stand to prate, but to the purpose.\n"
     ]
    }
   ],
   "source": [
    "index = 14  # 0, 7, 9\n",
    "show_example(L.tasks.repetition.Shakespeare.data()[index], \"repetition\")"
   ]
  },
  {
   "cell_type": "markdown",
   "metadata": {},
   "source": [
    "# WikiText BPC"
   ]
  },
  {
   "cell_type": "code",
   "execution_count": 198,
   "metadata": {},
   "outputs": [
    {
     "name": "stderr",
     "output_type": "stream",
     "text": [
      "Repo card metadata block was not found. Setting CardData to empty.\n"
     ]
    },
    {
     "name": "stdout",
     "output_type": "stream",
     "text": [
      "\\begin{verbatim}### QUERY (2)\n",
      "\n",
      " = Mellor hill fort = \n",
      " \n",
      " Mellor hill fort is a prehistoric site in North West England , that dates from ...\n",
      " \n",
      " = = Location = = \n",
      " \n",
      " Mellor lies on the western edge of the Peak District in the Metropolitan Boroug...\n",
      " \n",
      " = = Background = = \n",
      " \n",
      " Until the 19th century little was known about hill forts ; none had been excava...\n",
      " The study of hill forts was popular in the 19th century , with a revival in the...\n",
      " \n",
      " = = History = = \n",
      " \n",
      " There is evidence of human activity on the site pre @-@ dating the Iron Age , a...\n",
      " A flint dagger was discovered on the site . This type of artefact is rare in Gr...\n",
      " The hill fort was built in and used throughout the Iron Age , as demonstrated b...\n",
      "\\end{verbatim}\n",
      "\\ Fragments of glass , possibly Roman in origin , and shards of pottery which date to the 1st and 2nd centuries AD , indicate the site was used in the Romano @-@ British period . However{\\color{blue}\\ no Roman structures have been discovered , and the nature of Roman activity at the site is a source of speculation . The position of the hilltop indicate that it was easily defended ; however , local finds indicate it was a high @-@ status settlement rather than a military outpost unless a similar feature was located nearby . One reason that Roman structures have not been identified is that the Romano}\n",
      "\\begin{verbatim}### BPC\n",
      "      DENSE: 0.669\n",
      "      SPARQ: 0.673\n",
      "        H2O: 0.685\n",
      "LM-INFINITE: 0.692\n",
      "\\end{verbatim}\n"
     ]
    }
   ],
   "source": [
    "index = 2  # 1\n",
    "example = L.tasks.bpc.WikiText.data()[index]\n",
    "lines = example[\"prefill\"].split(\"\\n\")\n",
    "print(f\"\\\\begin{{verbatim}}### QUERY ({index})\")\n",
    "print()\n",
    "print(\"\\n\".join([shorten(line, 80) for line in lines[:-1]]))\n",
    "print(\"\\\\end{verbatim}\")\n",
    "print(\"\\\\\" + lines[-1] + \"{\\color{blue}\\\\\" + example[\"reference\"] + \"}\")\n",
    "print(\"\\\\begin{verbatim}### BPC\")\n",
    "for id in run_ids[\"wikitext_bpc\"]:\n",
    "    run = get_run(id)\n",
    "    bpc = run.summary.results[index][\"bpc\"]\n",
    "    print(f'{display_name[get_run(id).config[\"sparsity\"][\"name\"]]:>11}: {bpc:.3f}')\n",
    "print(\"\\\\end{verbatim}\")"
   ]
  }
 ],
 "metadata": {
  "kernelspec": {
   "display_name": ".venv",
   "language": "python",
   "name": "python3"
  },
  "language_info": {
   "codemirror_mode": {
    "name": "ipython",
    "version": 3
   },
   "file_extension": ".py",
   "mimetype": "text/x-python",
   "name": "python",
   "nbconvert_exporter": "python",
   "pygments_lexer": "ipython3",
   "version": "3.8.10"
  }
 },
 "nbformat": 4,
 "nbformat_minor": 2
}
