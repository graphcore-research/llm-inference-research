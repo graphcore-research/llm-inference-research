{
 "cells": [
  {
   "cell_type": "markdown",
   "metadata": {},
   "source": [
    "## Attention performance analysis (ICLR workshop posters)"
   ]
  },
  {
   "cell_type": "code",
   "execution_count": 1,
   "metadata": {},
   "outputs": [],
   "source": [
    "from dataclasses import dataclass\n",
    "from typing import Dict, Optional"
   ]
  },
  {
   "cell_type": "code",
   "execution_count": 2,
   "metadata": {},
   "outputs": [],
   "source": [
    "# References:\n",
    "# https://www.nvidia.com/en-gb/data-center/products/a10-gpu/\n",
    "# https://www.techpowerup.com/gpu-specs/a100-sxm4-40-gb.c3506\n",
    "\n",
    "@dataclass\n",
    "class XPU:\n",
    "    name: str\n",
    "    bytes_per_sec: int\n",
    "    flop_per_sec: int\n",
    "    capacity: float\n",
    "\n",
    "# Numbers for fp16\n",
    "a10 = XPU(name=\"A10\", bytes_per_sec=600e9, flop_per_sec=125e12, capacity=24e9)\n",
    "a100 = XPU(name=\"A100\", bytes_per_sec=1560e9, flop_per_sec=312e12, capacity=40e9)"
   ]
  },
  {
   "cell_type": "code",
   "execution_count": 3,
   "metadata": {},
   "outputs": [],
   "source": [
    "@dataclass\n",
    "class P:\n",
    "    flops: int\n",
    "    memory_transfer: float"
   ]
  },
  {
   "cell_type": "code",
   "execution_count": 4,
   "metadata": {},
   "outputs": [],
   "source": [
    "# Get FLOP count and memory transfer in bytes for attention during generation\n",
    "def get_attn_perf_numbers(\n",
    "    batch_size: int,\n",
    "    seq_len: int,\n",
    "    hidden_dim: int,\n",
    "    kv_group_size: int,\n",
    "    n_layers: int,\n",
    "    bytes_per_kv: float,\n",
    ") -> P:\n",
    "    n_kv_elements = batch_size * n_layers * 2 * seq_len * hidden_dim // kv_group_size\n",
    "\n",
    "    flops = 2 * n_kv_elements * kv_group_size\n",
    "    memory_transfer = n_kv_elements * bytes_per_kv\n",
    "\n",
    "    return P(flops, memory_transfer)\n",
    "\n",
    "\n",
    "# Get FLOP count and memory transfer in bytes for rest of the model during generation\n",
    "def get_model_perf_numbers(\n",
    "    batch_size: int,\n",
    "    hidden_dim: int,\n",
    "    n_layers: int,\n",
    "    vocab_size: int,\n",
    "    bytes_per_param: float,\n",
    ") -> P:\n",
    "    embed_params = hidden_dim * vocab_size\n",
    "    model_params = n_layers * 12 * hidden_dim**2\n",
    "\n",
    "    # Multiply + add per param, count output projection as well\n",
    "    flops = 2 * batch_size * (model_params + embed_params)\n",
    "    memory_transfer = (model_params + 2 * embed_params) * bytes_per_param\n",
    "\n",
    "    return P(flops, memory_transfer)"
   ]
  },
  {
   "cell_type": "code",
   "execution_count": 5,
   "metadata": {},
   "outputs": [],
   "source": [
    "# Get FLOP count and memory transfer in bytes for a single transformer generation step\n",
    "def get_perf_numbers(\n",
    "    batch_size: int,\n",
    "    seq_len: int,\n",
    "    hidden_dim: int,\n",
    "    kv_group_size: int,\n",
    "    n_layers: int = 1,\n",
    "    bytes_per_param: float = 2,\n",
    "    bytes_per_kv: float = 2,\n",
    "    vocab_size: Optional[int] = None,\n",
    ") -> Dict[str, P]:\n",
    "    if vocab_size is None:\n",
    "        vocab_size = 0\n",
    "\n",
    "    attn = get_attn_perf_numbers(\n",
    "        batch_size, seq_len, hidden_dim, kv_group_size, n_layers, bytes_per_kv\n",
    "    )\n",
    "    model = get_model_perf_numbers(\n",
    "        batch_size, hidden_dim, n_layers, vocab_size, bytes_per_param\n",
    "    )\n",
    "    return dict(attn=attn, model=model)"
   ]
  },
  {
   "cell_type": "markdown",
   "metadata": {},
   "source": [
    "## Generation latency breakdown"
   ]
  },
  {
   "cell_type": "markdown",
   "metadata": {},
   "source": [
    "For different setups, show the proportion of time spent doing the attention operation vs other parts of the model."
   ]
  },
  {
   "cell_type": "code",
   "execution_count": 6,
   "metadata": {},
   "outputs": [],
   "source": [
    "# Llama model config\n",
    "kv_group_size = 1\n",
    "hidden_dim = 4096\n",
    "n_layers = 32\n",
    "bytes_per_param = 2\n",
    "bytes_per_kv = 2\n",
    "vocab_size = 32_000\n",
    "\n",
    "# Set platform to calculate latency numbers\n",
    "platform = a100"
   ]
  },
  {
   "cell_type": "code",
   "execution_count": 7,
   "metadata": {},
   "outputs": [
    {
     "name": "stdout",
     "output_type": "stream",
     "text": [
      "Theoretical latency numbers for single-token generation using Llama-2 on A100 (note: numbers in brackets indicate the percentage of the total time)\n",
      "\n",
      "\n",
      "Batch size: 1, Sequence length: 1024:\n",
      "\tAttention  -- Computation: 0.002ms (0.0%), Memory: 0.344ms (3.8%)\n",
      "\tModel      -- Computation: 0.042ms (0.5%), Memory: 8.596ms (95.7%)\n",
      "\n",
      "Batch size: 1, Sequence length: 128000:\n",
      "\tAttention  -- Computation: 0.215ms (0.4%), Memory: 43.019ms (82.9%)\n",
      "\tModel      -- Computation: 0.042ms (0.1%), Memory: 8.596ms (16.6%)\n",
      "\n"
     ]
    }
   ],
   "source": [
    "print(\n",
    "    \"Theoretical latency numbers for single-token generation using Llama-2 on A100 (note: numbers in brackets indicate the percentage of the total time)\\n\\n\"\n",
    ")\n",
    "for batch_size, seq_len in [(1, 1024), (1, 128_000)]:\n",
    "    p = get_perf_numbers(\n",
    "        batch_size,\n",
    "        seq_len,\n",
    "        hidden_dim,\n",
    "        kv_group_size,\n",
    "        n_layers,\n",
    "        bytes_per_param,\n",
    "        bytes_per_kv,\n",
    "        vocab_size,\n",
    "    )\n",
    "    attn_time = dict(\n",
    "        comp=p[\"attn\"].flops / platform.flop_per_sec,\n",
    "        mem=p[\"attn\"].memory_transfer / platform.bytes_per_sec,\n",
    "    )\n",
    "    model_time = dict(\n",
    "        comp=p[\"model\"].flops / platform.flop_per_sec,\n",
    "        mem=p[\"model\"].memory_transfer / platform.bytes_per_sec,\n",
    "    )\n",
    "    total_time = sum(attn_time.values()) + sum(model_time.values())\n",
    "    print(f\"Batch size: {batch_size}, Sequence length: {seq_len}:\")\n",
    "    print(\n",
    "        f\"\\t{'Attention':<10} -- Computation: {attn_time['comp']*1000:.3f}ms ({attn_time['comp'] / total_time:.1%}), Memory: {attn_time['mem']*1000:.3f}ms ({attn_time['mem'] / total_time:.1%})\"\n",
    "    )\n",
    "    print(\n",
    "        f\"\\t{'Model':<10} -- Computation: {model_time['comp']*1000:.3f}ms ({model_time['comp'] / total_time:.1%}), Memory: {model_time['mem']*1000:.3f}ms ({model_time['mem'] / total_time:.1%})\"\n",
    "    )\n",
    "    print()"
   ]
  },
  {
   "cell_type": "code",
   "execution_count": null,
   "metadata": {},
   "outputs": [],
   "source": []
  }
 ],
 "metadata": {
  "kernelspec": {
   "display_name": ".venv",
   "language": "python",
   "name": "python3"
  },
  "language_info": {
   "codemirror_mode": {
    "name": "ipython",
    "version": 3
   },
   "file_extension": ".py",
   "mimetype": "text/x-python",
   "name": "python",
   "nbconvert_exporter": "python",
   "pygments_lexer": "ipython3",
   "version": "3.10.2"
  }
 },
 "nbformat": 4,
 "nbformat_minor": 2
}
