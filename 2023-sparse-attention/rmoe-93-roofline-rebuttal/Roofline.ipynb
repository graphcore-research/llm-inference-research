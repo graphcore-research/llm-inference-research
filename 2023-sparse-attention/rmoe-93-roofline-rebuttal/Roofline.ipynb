{
 "cells": [
  {
   "cell_type": "markdown",
   "metadata": {},
   "source": [
    "## Roofline analysis of transformer generation"
   ]
  },
  {
   "cell_type": "code",
   "execution_count": 142,
   "metadata": {},
   "outputs": [],
   "source": [
    "from dataclasses import dataclass\n",
    "from typing import Optional, Tuple\n",
    "\n",
    "import pandas as pd\n",
    "import matplotlib\n",
    "import matplotlib.pyplot as plt\n",
    "import numpy as np"
   ]
  },
  {
   "cell_type": "code",
   "execution_count": 143,
   "metadata": {},
   "outputs": [],
   "source": [
    "# References:\n",
    "# https://www.nvidia.com/en-gb/data-center/products/a10-gpu/\n",
    "# https://www.techpowerup.com/gpu-specs/a100-sxm4-40-gb.c3506\n",
    "\n",
    "@dataclass\n",
    "class XPU:\n",
    "    name: str\n",
    "    bytes_per_sec: int\n",
    "    flop_per_sec: int\n",
    "    capacity: float\n",
    "\n",
    "# Numbers for fp16\n",
    "a10 = XPU(name=\"A10\", bytes_per_sec=600e9, flop_per_sec=125e12, capacity=24e9)\n",
    "a100 = XPU(name=\"A100\", bytes_per_sec=1560e9, flop_per_sec=312e12, capacity=40e9)"
   ]
  },
  {
   "cell_type": "code",
   "execution_count": 144,
   "metadata": {},
   "outputs": [],
   "source": [
    "# Get FLOP count and memory transfer in bytes for attention during generation\n",
    "def get_attn_perf_numbers(\n",
    "    batch_size: int,\n",
    "    seq_len: int,\n",
    "    hidden_dim: int,\n",
    "    kv_group_size: int,\n",
    "    n_layers: int = 1,\n",
    "    bytes_per_kv: float = 2,\n",
    ") -> Tuple[int, int]:\n",
    "    n_kv_elements = batch_size * n_layers * 2 * seq_len * hidden_dim // kv_group_size\n",
    "\n",
    "    flops = 2 * n_kv_elements * kv_group_size\n",
    "    memory_transfer = n_kv_elements * bytes_per_kv\n",
    "\n",
    "    return flops, memory_transfer"
   ]
  },
  {
   "cell_type": "code",
   "execution_count": 145,
   "metadata": {},
   "outputs": [],
   "source": [
    "# Get FLOP count and memory transfer in bytes for a single transformer generation step\n",
    "def get_perf_numbers(\n",
    "    batch_size: int,\n",
    "    seq_len: int,\n",
    "    hidden_dim: int,\n",
    "    kv_group_size: int,\n",
    "    n_layers: int = 1,\n",
    "    bytes_per_param: float = 2,\n",
    "    bytes_per_kv: float = 2,\n",
    "    vocab_size: Optional[int] = None,\n",
    ") -> Tuple[int, int]:\n",
    "    if vocab_size is None:\n",
    "        vocab_size = 0\n",
    "    embed_params = hidden_dim * vocab_size\n",
    "    model_params = n_layers * 12 * hidden_dim**2\n",
    "\n",
    "    attn_flops, attn_mem = get_attn_perf_numbers(\n",
    "        batch_size, seq_len, hidden_dim, kv_group_size, n_layers, bytes_per_kv\n",
    "    )\n",
    "\n",
    "    # Multiply + add per param, count output projection as well\n",
    "    flops = 2 * batch_size * (model_params + embed_params) + attn_flops\n",
    "\n",
    "    memory_transfer = (model_params + 2 * embed_params) * bytes_per_param + attn_mem\n",
    "\n",
    "    return flops, memory_transfer"
   ]
  },
  {
   "cell_type": "code",
   "execution_count": 146,
   "metadata": {},
   "outputs": [],
   "source": [
    "# Load measurements\n",
    "df = pd.read_json(\"final_measurements.jsonl\", lines=True)"
   ]
  },
  {
   "cell_type": "code",
   "execution_count": 147,
   "metadata": {},
   "outputs": [],
   "source": [
    "def calc_mean_times(row):\n",
    "    total_times = [x[0] for x in row.times]\n",
    "    attn_times = [x[1] for x in row.times]\n",
    "    return np.mean(total_times), np.mean(attn_times)"
   ]
  },
  {
   "cell_type": "code",
   "execution_count": 148,
   "metadata": {},
   "outputs": [],
   "source": [
    "df[[\"time\", \"attn_time\"]] = df.apply(lambda row: calc_mean_times(row), axis=1, result_type=\"expand\")\n",
    "df = df.drop(\"times\", axis=1)\n",
    "\n",
    "df[[\"flops\", \"memory_transfer\"]] = df.apply(\n",
    "    lambda row: get_perf_numbers(\n",
    "        row.batch_size,\n",
    "        row.seq_len,\n",
    "        row.hidden_dim,\n",
    "        row.kv_group_size,\n",
    "        row.n_layers,\n",
    "        row.bytes_per_param,\n",
    "        row.bytes_per_kv,\n",
    "        row.vocab_size,\n",
    "    ),\n",
    "    axis=1,\n",
    "    result_type=\"expand\",\n",
    ")\n",
    "df[\"arithmetic_intensity\"] = df[\"flops\"] / df[\"memory_transfer\"]\n",
    "df[\"flops_per_sec\"] = df[\"flops\"] / df[\"time\"]"
   ]
  },
  {
   "cell_type": "code",
   "execution_count": 149,
   "metadata": {},
   "outputs": [
    {
     "data": {
      "text/html": [
       "<div>\n",
       "<style scoped>\n",
       "    .dataframe tbody tr th:only-of-type {\n",
       "        vertical-align: middle;\n",
       "    }\n",
       "\n",
       "    .dataframe tbody tr th {\n",
       "        vertical-align: top;\n",
       "    }\n",
       "\n",
       "    .dataframe thead th {\n",
       "        text-align: right;\n",
       "    }\n",
       "</style>\n",
       "<table border=\"1\" class=\"dataframe\">\n",
       "  <thead>\n",
       "    <tr style=\"text-align: right;\">\n",
       "      <th></th>\n",
       "      <th>model_name</th>\n",
       "      <th>batch_size</th>\n",
       "      <th>seq_len</th>\n",
       "      <th>bytes_per_param</th>\n",
       "      <th>bytes_per_kv</th>\n",
       "      <th>hidden_dim</th>\n",
       "      <th>kv_group_size</th>\n",
       "      <th>n_layers</th>\n",
       "      <th>vocab_size</th>\n",
       "      <th>error</th>\n",
       "      <th>device_name</th>\n",
       "      <th>time</th>\n",
       "      <th>attn_time</th>\n",
       "      <th>flops</th>\n",
       "      <th>memory_transfer</th>\n",
       "      <th>arithmetic_intensity</th>\n",
       "      <th>flops_per_sec</th>\n",
       "    </tr>\n",
       "  </thead>\n",
       "  <tbody>\n",
       "    <tr>\n",
       "      <th>0</th>\n",
       "      <td>meta-llama/Llama-2-7b-hf</td>\n",
       "      <td>1</td>\n",
       "      <td>1</td>\n",
       "      <td>2</td>\n",
       "      <td>2</td>\n",
       "      <td>4096</td>\n",
       "      <td>1</td>\n",
       "      <td>32</td>\n",
       "      <td>32000</td>\n",
       "      <td>NaN</td>\n",
       "      <td>NVIDIA A100-SXM4-40GB</td>\n",
       "      <td>0.037196</td>\n",
       "      <td>0.005625</td>\n",
       "      <td>13147570176</td>\n",
       "      <td>13409714176</td>\n",
       "      <td>0.980451</td>\n",
       "      <td>3.534703e+11</td>\n",
       "    </tr>\n",
       "    <tr>\n",
       "      <th>4</th>\n",
       "      <td>meta-llama/Llama-2-7b-hf</td>\n",
       "      <td>1</td>\n",
       "      <td>23000</td>\n",
       "      <td>2</td>\n",
       "      <td>2</td>\n",
       "      <td>4096</td>\n",
       "      <td>1</td>\n",
       "      <td>32</td>\n",
       "      <td>32000</td>\n",
       "      <td>NaN</td>\n",
       "      <td>NVIDIA A100-SXM4-40GB</td>\n",
       "      <td>0.211888</td>\n",
       "      <td>0.017773</td>\n",
       "      <td>25205669888</td>\n",
       "      <td>25467813888</td>\n",
       "      <td>0.989707</td>\n",
       "      <td>1.189576e+11</td>\n",
       "    </tr>\n",
       "    <tr>\n",
       "      <th>8</th>\n",
       "      <td>meta-llama/Llama-2-7b-hf</td>\n",
       "      <td>20</td>\n",
       "      <td>1000</td>\n",
       "      <td>2</td>\n",
       "      <td>2</td>\n",
       "      <td>4096</td>\n",
       "      <td>1</td>\n",
       "      <td>32</td>\n",
       "      <td>32000</td>\n",
       "      <td>NaN</td>\n",
       "      <td>NVIDIA A100-SXM4-40GB</td>\n",
       "      <td>0.083249</td>\n",
       "      <td>0.014092</td>\n",
       "      <td>273426677760</td>\n",
       "      <td>23894949888</td>\n",
       "      <td>11.442865</td>\n",
       "      <td>3.284459e+12</td>\n",
       "    </tr>\n",
       "  </tbody>\n",
       "</table>\n",
       "</div>"
      ],
      "text/plain": [
       "                 model_name  batch_size  seq_len  bytes_per_param  \\\n",
       "0  meta-llama/Llama-2-7b-hf           1        1                2   \n",
       "4  meta-llama/Llama-2-7b-hf           1    23000                2   \n",
       "8  meta-llama/Llama-2-7b-hf          20     1000                2   \n",
       "\n",
       "   bytes_per_kv  hidden_dim  kv_group_size  n_layers  vocab_size  error  \\\n",
       "0             2        4096              1        32       32000    NaN   \n",
       "4             2        4096              1        32       32000    NaN   \n",
       "8             2        4096              1        32       32000    NaN   \n",
       "\n",
       "             device_name      time  attn_time         flops  memory_transfer  \\\n",
       "0  NVIDIA A100-SXM4-40GB  0.037196   0.005625   13147570176      13409714176   \n",
       "4  NVIDIA A100-SXM4-40GB  0.211888   0.017773   25205669888      25467813888   \n",
       "8  NVIDIA A100-SXM4-40GB  0.083249   0.014092  273426677760      23894949888   \n",
       "\n",
       "   arithmetic_intensity  flops_per_sec  \n",
       "0              0.980451   3.534703e+11  \n",
       "4              0.989707   1.189576e+11  \n",
       "8             11.442865   3.284459e+12  "
      ]
     },
     "execution_count": 149,
     "metadata": {},
     "output_type": "execute_result"
    }
   ],
   "source": [
    "# Grab the rows to plot\n",
    "df = df.iloc[[0, 4, 8]]\n",
    "df"
   ]
  },
  {
   "cell_type": "code",
   "execution_count": 150,
   "metadata": {},
   "outputs": [
    {
     "data": {
      "image/png": "[encoded data removed]",
      "text/plain": [
       "<Figure size 640x480 with 1 Axes>"
      ]
     },
     "metadata": {},
     "output_type": "display_data"
    }
   ],
   "source": [
    "# Plot the basic roofline plot\n",
    "platform = a100\n",
    "\n",
    "# Arithmetic intensity\n",
    "ai = np.logspace(-5, 18, base=2)\n",
    "flops = np.minimum(ai * platform.bytes_per_sec, platform.flop_per_sec)\n",
    "\n",
    "# Plot the platform roofline plot\n",
    "plt.figure()\n",
    "plt.plot(ai, flops, linewidth=2)\n",
    "plt.xscale(\"log\", base=10)\n",
    "plt.yscale(\"log\", base=10)\n",
    "plt.xlabel(\"Arithmetic intensity (FLOPs / byte)\")\n",
    "plt.ylabel(\"Performance (FLOPS)\")\n",
    "plt.title(f\"Roofline analysis for Llama-7B, {platform.name}\")\n",
    "\n",
    "# Plot specific points\n",
    "for _, row in df.iterrows():\n",
    "    plt.plot(row.arithmetic_intensity, row.flops_per_sec, 'o', label=f\"B={row.batch_size}, S={row.seq_len:,}\")\n",
    "\n",
    "plt.legend(loc=\"lower right\")\n",
    "plt.show()"
   ]
  },
  {
   "cell_type": "markdown",
   "metadata": {},
   "source": [
    "## Generation latency breakdown"
   ]
  },
  {
   "cell_type": "markdown",
   "metadata": {},
   "source": [
    "For different setups, show the proportion of time spent doing the attention operation vs other parts of the model."
   ]
  },
  {
   "cell_type": "code",
   "execution_count": 151,
   "metadata": {},
   "outputs": [],
   "source": [
    "batch_size = 1\n",
    "seq_len = 20_000\n",
    "\n",
    "# Llama model config\n",
    "kv_group_size = 1\n",
    "hidden_dim = 4096\n",
    "n_layers = 32\n",
    "bytes_per_param = 2\n",
    "bytes_per_kv = 2\n",
    "vocab_size = 32_000\n",
    "\n",
    "platform = a100"
   ]
  },
  {
   "cell_type": "code",
   "execution_count": 152,
   "metadata": {},
   "outputs": [
    {
     "name": "stdout",
     "output_type": "stream",
     "text": [
      "Sequence length: 1024\n",
      "Total memory used in GB: 13.9460608\n",
      "Attention time: 0.00034586876061538463, Total time: 0.008983641271794872, Ratio: 0.038499841005592866\n",
      "\n",
      "\n",
      "Sequence length: 23000\n",
      "Total memory used in GB: 25.467813888\n",
      "Attention time: 0.007768536615384616, Total time: 0.016406309126564104, Ratio: 0.47350909674170844\n",
      "\n",
      "\n",
      "Sequence length: 128000\n",
      "Total memory used in GB: 80.518053888\n",
      "Attention time: 0.04323359507692308, Total time: 0.05187136758810257, Ratio: 0.8334770623406373\n",
      "\n",
      "\n"
     ]
    }
   ],
   "source": [
    "for seq_len in [1024, 23_000, 128_000]:\n",
    "    attn_flops, attn_mem = get_attn_perf_numbers(\n",
    "        batch_size, seq_len, hidden_dim, kv_group_size, n_layers, bytes_per_kv\n",
    "    )\n",
    "    flops, mem = get_perf_numbers(\n",
    "        batch_size,\n",
    "        seq_len,\n",
    "        hidden_dim,\n",
    "        kv_group_size,\n",
    "        n_layers,\n",
    "        bytes_per_param,\n",
    "        bytes_per_kv,\n",
    "        vocab_size,\n",
    "    )\n",
    "    print(f\"Sequence length: {seq_len}\")\n",
    "    print(f\"Total memory used in GB: {mem / 1e9}\")\n",
    "    \n",
    "    attn_time = attn_flops / platform.flop_per_sec + attn_mem / platform.bytes_per_sec\n",
    "    total_time = flops / platform.flop_per_sec + mem / platform.bytes_per_sec\n",
    "    print(f\"Attention time: {attn_time}, Total time: {total_time}, Ratio: {attn_time / total_time}\\n\\n\")"
   ]
  },
  {
   "cell_type": "code",
   "execution_count": 153,
   "metadata": {},
   "outputs": [
    {
     "name": "stdout",
     "output_type": "stream",
     "text": [
      "Sequence length: 8192\n",
      "Total memory used in GB: 82.128666624\n",
      "Attention time: 0.04427120135876923, Total time: 0.05354104338379487, Ratio: 0.826864748253462\n"
     ]
    }
   ],
   "source": [
    "batch_size = 16\n",
    "seq_len = 8192\n",
    "attn_flops, attn_mem = get_attn_perf_numbers(\n",
    "    batch_size, seq_len, hidden_dim, kv_group_size, n_layers, bytes_per_kv\n",
    ")\n",
    "flops, mem = get_perf_numbers(\n",
    "    batch_size,\n",
    "    seq_len,\n",
    "    hidden_dim,\n",
    "    kv_group_size,\n",
    "    n_layers,\n",
    "    bytes_per_param,\n",
    "    bytes_per_kv,\n",
    "    vocab_size,\n",
    ")\n",
    "print(f\"Sequence length: {seq_len}\")\n",
    "print(f\"Total memory used in GB: {mem / 1e9}\")\n",
    "\n",
    "attn_time = attn_flops / platform.flop_per_sec + attn_mem / platform.bytes_per_sec\n",
    "total_time = flops / platform.flop_per_sec + mem / platform.bytes_per_sec\n",
    "print(f\"Attention time: {attn_time}, Total time: {total_time}, Ratio: {attn_time / total_time}\")"
   ]
  }
 ],
 "metadata": {
  "kernelspec": {
   "display_name": ".venv",
   "language": "python",
   "name": "python3"
  },
  "language_info": {
   "codemirror_mode": {
    "name": "ipython",
    "version": 3
   },
   "file_extension": ".py",
   "mimetype": "text/x-python",
   "name": "python",
   "nbconvert_exporter": "python",
   "pygments_lexer": "ipython3",
   "version": "3.10.12"
  }
 },
 "nbformat": 4,
 "nbformat_minor": 2
}
