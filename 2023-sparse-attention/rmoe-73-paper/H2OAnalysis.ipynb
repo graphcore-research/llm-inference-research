{
 "cells": [
  {
   "cell_type": "code",
   "execution_count": 2,
   "metadata": {},
   "outputs": [],
   "source": [
    "from contextlib import contextmanager\n",
    "import copy\n",
    "from typing import Iterator\n",
    "\n",
    "import tabulate\n",
    "import torch\n",
    "from torch import nn\n",
    "\n",
    "import llminference as L\n",
    "import modify_gptneox as h2o\n",
    "\n",
    "torch.set_num_threads(32)"
   ]
  },
  {
   "cell_type": "code",
   "execution_count": 19,
   "metadata": {},
   "outputs": [
    {
     "name": "stderr",
     "output_type": "stream",
     "text": [
      "Found cached dataset squad (/nethome/douglaso/.cache/huggingface/datasets/squad/plain_text/1.0.0/d6ec3ceb99ca480ce37cdd35555d6cb2511d223b9150cce08a837ef62ffea453)\n"
     ]
    },
    {
     "data": {
      "application/vnd.jupyter.widget-view+json": {
       "model_id": "5c32de31d07d441ebe2c7857258ec4c0",
       "version_major": 2,
       "version_minor": 0
      },
      "text/plain": [
       "  0%|          | 0/2 [00:00<?, ?it/s]"
      ]
     },
     "metadata": {},
     "output_type": "display_data"
    },
    {
     "name": "stderr",
     "output_type": "stream",
     "text": [
      "Loading cached processed dataset at /nethome/douglaso/.cache/huggingface/datasets/squad/plain_text/1.0.0/d6ec3ceb99ca480ce37cdd35555d6cb2511d223b9150cce08a837ef62ffea453/cache-03400b5d173ab796.arrow\n",
      "Loading cached shuffled indices for dataset at /nethome/douglaso/.cache/huggingface/datasets/squad/plain_text/1.0.0/d6ec3ceb99ca480ce37cdd35555d6cb2511d223b9150cce08a837ef62ffea453/cache-c374d8616db3e9e0.arrow\n"
     ]
    }
   ],
   "source": [
    "out = {}\n",
    "adapter = L.Adapter.from_pretrained(\"EleutherAI/pythia-1.4b\")\n",
    "original_model = adapter.model\n",
    "data = L.qa.SQuAD.data()\n",
    "examples = [L.qa.add_few_shot_prompt(\n",
    "    data[i], k=1, prompt_template=L.qa.get_default_prompt_template(adapter.model.config._name_or_path, shots=1))\n",
    "    for i in range(200)]"
   ]
  },
  {
   "cell_type": "code",
   "execution_count": 20,
   "metadata": {},
   "outputs": [
    {
     "name": "stderr",
     "output_type": "stream",
     "text": [
      "Evaluating EleutherAI/pythia-1.4b: 100%|██████████| 40/40 [32:20<00:00, 48.51s/it]\n"
     ]
    }
   ],
   "source": [
    "adapter.model = original_model\n",
    "out[\"dense\"] = list(L.qa.evaluate(adapter, examples, batch_size=5))"
   ]
  },
  {
   "cell_type": "code",
   "execution_count": 21,
   "metadata": {},
   "outputs": [
    {
     "name": "stderr",
     "output_type": "stream",
     "text": [
      "Evaluating EleutherAI/pythia-1.4b: 100%|██████████| 40/40 [36:01<00:00, 54.04s/it]\n"
     ]
    }
   ],
   "source": [
    "eviction_settings = L.eviction_attention.Settings(k=256, local_k=64, strategy=\"sum_weight\")\n",
    "adapter.model = L.eviction_attention.convert(original_model, eviction_settings)\n",
    "out[\"eviction_ours\"] = list(L.qa.evaluate(adapter, examples, batch_size=5))"
   ]
  },
  {
   "cell_type": "code",
   "execution_count": 22,
   "metadata": {},
   "outputs": [
    {
     "name": "stderr",
     "output_type": "stream",
     "text": [
      "Evaluating EleutherAI/pythia-1.4b: 100%|██████████| 200/200 [33:16<00:00,  9.98s/it]\n"
     ]
    }
   ],
   "source": [
    "@contextmanager\n",
    "def h2o_generation_context(model: nn.Module) -> Iterator[nn.Module]:\n",
    "    yield model\n",
    "    for m in model.modules():\n",
    "        if isinstance(m, h2o.GPTNeoXAttention_Mask):\n",
    "            m._reset_masks()\n",
    "\n",
    "approximate_sequence_length = 2048\n",
    "adapter.model = copy.deepcopy(original_model)\n",
    "adapter.model.config.heavy_ratio = (eviction_settings.k - eviction_settings.local_k) / approximate_sequence_length\n",
    "adapter.model.config.recent_ratio = eviction_settings.local_k / approximate_sequence_length\n",
    "h2o.convert_kvcache_gpt_neox_heavy_recent(adapter.model, adapter.model.config)\n",
    "adapter.model.load_state_dict(original_model.state_dict(), strict=False)\n",
    "adapter.model.generation_context = h2o_generation_context\n",
    "out[\"eviction_h2o\"] = list(L.qa.evaluate(adapter, examples, batch_size=1))"
   ]
  },
  {
   "cell_type": "code",
   "execution_count": 23,
   "metadata": {},
   "outputs": [
    {
     "name": "stdout",
     "output_type": "stream",
     "text": [
      "Overall exact-match results:\n",
      "          dense: 74/200\n",
      "  eviction_ours: 60/200\n",
      "   eviction_h2o: 57/200\n"
     ]
    }
   ],
   "source": [
    "print(\"Overall exact-match results:\")\n",
    "for name, results in out.items():\n",
    "    print(f\"{name:>15}: {sum(x['match'] for x in results)}/{len(results)}\")"
   ]
  },
  {
   "cell_type": "code",
   "execution_count": 24,
   "metadata": {},
   "outputs": [
    {
     "name": "stdout",
     "output_type": "stream",
     "text": [
      "41/79 error match\n"
     ]
    }
   ],
   "source": [
    "chars = 20\n",
    "different_from_dense = sum(\n",
    "    b[\"output\"][:chars] != o[\"output\"][:chars] or b[\"output\"][:chars] != h[\"output\"][:chars]\n",
    "    for b, o, h in zip(out[\"dense\"], out[\"eviction_ours\"], out[\"eviction_h2o\"])\n",
    ")\n",
    "different_ours_h20 = sum(\n",
    "    o[\"output\"][:chars] != h[\"output\"][:chars]\n",
    "    for o, h in zip(out[\"eviction_ours\"], out[\"eviction_h2o\"])\n",
    ")\n",
    "print(f\"{different_from_dense-different_ours_h20}/{different_from_dense} error match\")"
   ]
  },
  {
   "cell_type": "code",
   "execution_count": 25,
   "metadata": {},
   "outputs": [
    {
     "name": "stdout",
     "output_type": "stream",
     "text": [
      "     dense                    eviction_ours            eviction_h2o             ours_matches_h20\n",
      "---  -----------------------  -----------------------  -----------------------  ------------------\n",
      "  0  ' steam plants\\nQuesti'  ' steam plants\\nQuesti'  ' steam plants\\nQuesti'  True\n",
      "  1  ' 1 July 1851\\nQuestio'  ' 1 July 1851\\nQuestio'  ' 1 July 1851\\nQuestio'  True\n",
      "  2  ' English MPs\\nQuestio'  ' English\\nQuestion: M'  ' English MPs can onl'   False\n",
      "  3  ' Nepali\\nQuestion: Wh'  ' Nepali\\nQuestion: Wh'  ' Nepali\\nQuestion: Wh'  True\n",
      "  4  ' Joseph Coulon de Ju'   ' Joseph Coulon de Vi'   ' Joseph Brant, a Fre'   False\n",
      "  5  ' 5 committees\\nQuesti'  ' 5\\nQuestion: What is'  ' 5\\nQuestion: What is'  True\n",
      "  6  ' the Mission Council'   ' the Mission Council'   ' the Mission Council'   True\n",
      "  7  ' He prayed, \"Into yo'   ' He prayed, \"Into yo'   ' He prayed to God to'   False\n",
      "  8  ' Miller\\nQuestion: Wh'  ' Miller\\nQuestion: Wh'  ' Miller\\nQuestion: Wh'  True\n",
      "  9  ' The British Empire\\n'  ' The British Empire\\n'  ' The British Empire\\n'  True\n",
      " 10  ' it absorbs strongly'   ' it absorbs UV radia'   ' it absorbs UV radia'   True\n",
      " 11  ' \"regeneration\"\\nQues'  ' \"regeneration\"\\nQues'  ' \"regeneration\"\\nQues'  True\n",
      " 12  ' Mahmud Fami Naqrash'   ' Mahmud of Ghazna\\nQu'  ' Mahmud\\nQuestion: Wh'  False\n",
      " 13  ' The methodology use'   ' The Oxfam report is'   ' The methodology use'   False\n",
      " 14  ' The entire city\\nQue'  ' The majority of the'   ' The majority of the'   True\n",
      " 15  ' sin\\nQuestion: What '  ' sin\\nQuestion: What '  ' sin\\nQuestion: What '  True\n",
      " 16  ' RNA silencing\\nQuest'  ' RNA silencing\\nQuest'  ' RNA silencing\\nQuest'  True\n",
      " 17  ' oxygen\\nQuestion: Wh'  ' oxygen\\nQuestion: Wh'  ' oxygen\\nQuestion: Wh'  True\n",
      " 18  ' Meritocratic\\nQuesti'  ' Merchant class\\nQues'  ' Merchants\\nQuestion:'  False\n",
      " 19  ' Go-Ahead\\nQuestion: '  ' Go North East\\nQuest'  ' Go North East\\nQuest'  True\n",
      " 20  ' cuticle\\nQuestion: W'  ' cuticle\\nQuestion: W'  ' cuticle\\nQuestion: W'  True\n",
      " 21  ' Canada\\nQuestion: Wh'  ' Canada\\nQuestion: Wh'  ' Canada\\nQuestion: Wh'  True\n",
      " 22  ' Accountants\\nQuestio'  ' Accountants\\nQuestio'  ' Accountants\\nQuestio'  True\n",
      " 23  ' 90,000\\nQuestion: Wh'  ' 90,000\\nQuestion: Wh'  ' 90,000\\nQuestion: Wh'  True\n",
      " 24  ' San Diego\\nQuestion:'  ' San Bernardino\\nQues'  ' San Diego\\nQuestion:'  False\n",
      " 25  ' Materia Medica\\nQues'  ' Materia Medica\\nQues'  ' Materia Medica\\nQues'  True\n",
      " 26  ' covalent\\nQuestion: '  ' covalent\\nQuestion: '  ' covalent\\nQuestion: '  True\n",
      " 27  ' superior\\nQuestion: '  ' superior\\nQuestion: '  ' superior\\nQuestion: '  True\n",
      " 28  ' the king of France\\n'  ' the king\\nQuestion: '  ' the king\\nQuestion: '  True\n",
      " 29  ' Univision\\nQuestion:'  ' Univision\\nQuestion:'  ' Univision\\nQuestion:'  True\n",
      " 30  ' Hydrogen, helium an'   ' Hydrogen, Helium an'   ' Hydrogen, Helium an'   True\n",
      " 31  ' lupus erythematosus'   ' lupus\\nQuestion: Wha'  ' lupus\\nQuestion: Wha'  True\n",
      " 32  ' John F. Kennedy\\nQue'  ' John F. Kennedy\\nQue'  ' John F. Kennedy\\nQue'  True\n",
      " 33  ' Roman times\\nQuestio'  ' Roman times\\nQuestio'  ' Roman Empire\\nQuesti'  False\n",
      " 34  ' buildings, infrastr'   ' buildings, infrastr'   ' buildings, infrastr'   True\n",
      " 35  ' Qualified majority\\n'  ' Qualified majority\\n'  ' Qualified majority\\n'  True\n",
      " 36  ' the nobility\\nQuesti'  ' the nobility\\nQuesti'  ' the upper class\\nQue'  False\n",
      " 37  ' elude host immune r'   ' elude host immune r'   ' elude host immune r'   True\n",
      " 38  ' In the mountains of'   ' In the mountains of'   ' In Liangzhou\\nQuesti'  False\n",
      " 39  ' Because it was a pr'   ' Because it was a pr'   ' Because it was a pr'   True\n",
      " 40  ' 1569\\nQuestion: What'  ' 1597\\nQuestion: What'  ' 1599\\nQuestion: When'  False\n",
      " 41  ' Early Pleistocene\\nQ'  ' Early to Middle Ple'   ' Early to Middle Ple'   True\n",
      " 42  ' 1964 and 1965\\nQuest'  ' 1964\\nQuestion: What'  ' 1964\\nQuestion: What'  True\n",
      " 43  ' May 5, 1949\\nQuestio'  ' May 5, 1949\\nQuestio'  ' May 5, 1949\\nQuestio'  True\n",
      " 44  ' Nikola Tesla Museum'   ' Nikola Tesla Museum'   ' Nikola Tesla Museum'   True\n",
      " 45  ' Zond 5\\nQuestion: Wh'  ' Zond\\nQuestion: What'  ' Zond\\nQuestion: What'  True\n",
      " 46  ' Von Miller\\nQuestion'  ' Von Miller\\nQuestion'  ' Von Miller\\nQuestion'  True\n",
      " 47  ' New York City\\nQuest'  ' New York City\\nQuest'  ' New York City\\nQuest'  True\n",
      " 48  ' Alex Haley\\nQuestion'  ' Alex Haley\\nQuestion'  ' Alex Haley\\nQuestion'  True\n",
      " 49  ' all teachers\\nQuesti'  ' all teachers\\nQuesti'  ' all teachers\\nQuesti'  True\n",
      " 50  ' Cardinals\\nQuestion:'  ' Cardinals\\nQuestion:'  ' Cardinals\\nQuestion:'  True\n",
      " 51  ' 1978\\nQuestion: What'  ' 1978\\nQuestion: What'  ' 1978\\nQuestion: What'  True\n",
      " 52  ' Irvine Tech Center\\n'  ' Irvine Spectrum\\nQue'  ' Irvine Spectrum\\nQue'  True\n",
      " 53  ' Montcalm wanted to '   ' Montcalm\\nQuestion: '  ' Montcalm wanted to '   False\n",
      " 54  ' The Iroquois Confed'   \" The Mi'kmaq and the\"   \" The Mi'kmaq and\"       False\n",
      " 55  ' about a third\\nQuest'  ' about a third\\nQuest'  ' about half\\nQuestion'  False\n",
      " 56  ' £5\\nQuestion: What i'  ' £5\\nQuestion: What i'  ' £5\\nQuestion: What'    False\n",
      " 57  ' Mostly digital item'   ' Mostly digital item'   ' Mostly digital\\nQues'  False\n",
      " 58  ' p is not a prime fa'   ' p is not a prime fa'   ' p is not a prime fa'   True\n",
      " 59  ' Sakya\\nQuestion: Wha'  ' Sakya\\nQuestion: Wha'  ' Sakya\\nQuestion: Wha'  True\n",
      " 60  ' S&P\\nQuestion: What '  ' S&P\\nQuestion: What '  ' S&P\\nQuestion: What '  True\n",
      " 61  ' The Emperor present'   ' The Emperor\\nQuestio'  ' The Emperor decreed'   False\n",
      " 62  ' cancer, hepatitis, '   ' cancer, HIV, diabet'   ' cancer, HIV, diabet'   True\n",
      " 63  ' Westinghouse\\nQuesti'  ' Westinghouse\\nQuesti'  ' Westinghouse\\nQuesti'  True\n",
      " 64  ' it is toxic\\nQuestio'  \" it's too expensive \"   \" it's not a good ami\"   False\n",
      " 65  ' 2,000\\nQuestion: Wha'  ' 2.5 million tons\\nQu'  ' 2.5 million tons\\nQu'  True\n",
      " 66  ' over $40 million\\nQu'  ' over $40 million\\nQu'  ' over $40 million\\nQu'  True\n",
      " 67  ' phycobilins\\nQuestio'  ' phycobilin phycoery'   ' phycobilin phycoery'   True\n",
      " 68  ' Very common\\nQuestio'  ' Very common\\nQuestio'  ' Very common\\nQuestio'  True\n",
      " 69  ' food, water, and he'   ' food\\nQuestion: A do'  ' food\\nQuestion: A do'  True\n",
      " 70  ' Louis XIV revoked t'   ' Louis XIV was a ver'   ' Louis XIV was a ver'   True\n",
      " 71  ' in the liquid state'   ' in the liquid state'   ' in the liquid state'   True\n",
      " 72  ' the ozone case comm'   ' the ozone case was '   ' the ozone case was '   True\n",
      " 73  ' National Electric L'   ' National Electric L'   ' National Associatio'   False\n",
      " 74  ' November 2014\\nQuest'  ' November 2014\\nQuest'  ' November 2014\\nQuest'  True\n",
      " 75  ' Sexual misconduct\\nQ'  ' Sexual misconduct\\nQ'  ' Sexual misconduct\\nQ'  True\n",
      " 76  ' she helped by farmi'   ' she helped by farmi'   ' she helped by worki'   False\n",
      " 77  ' the qu\\nQuestion: Wh'  ' the qu\\nQuestion: Wh'  ' the qu\\nQuestion: Wh'  True\n",
      " 78  ' France\\nQuestion: Wh'  ' France\\nQuestion: Wh'  ' France\\nQuestion: Wh'  True\n",
      " 79  ' About 200 miles\\nQue'  ' About 1,000 miles\\nQ'  ' About 1,000 miles\\nQ'  True\n",
      " 80  \" by using the enemy'\"   \" by using the enemy'\"   ' by luring enemy gro'   False\n",
      " 81  ' The Mamluks of Egyp'   ' The Mamluks\\nQuestio'  ' The Mamluks\\nQuestio'  True\n",
      " 82  ' the government\\nQues'  ' the government\\nQues'  ' the mayor\\nQuestion:'  False\n",
      " 83  ' the poor and the mi'   ' the poor\\nQuestion: '  ' the poor\\nQuestion: '  True\n",
      " 84  ' 1965\\nQuestion: What'  ' 1965\\nQuestion: What'  ' 1965\\nQuestion: What'  True\n",
      " 85  ' financial self-inte'   ' financial\\nQuestion:'  ' financial\\nQuestion:'  True\n",
      " 86  ' whips\\nQuestion: Wha'  ' whips\\nQuestion: Who'  ' whips\\nQuestion: Who'  True\n",
      " 87  ' the Area Provost/De'   ' the Area Provost/De'   ' the Area Provost/De'   True\n",
      " 88  ' 2005\\nQuestion: What'  ' 2005\\nQuestion: What'  ' 2005\\nQuestion: What'  True\n",
      " 89  ' No\\nQuestion: What w'  ' No\\nQuestion: What w'  ' No\\nQuestion: What w'  True\n",
      " 90  ' Hall Of Fame guitar'   ' Hallmark\\nQuestion: '  ' Hallmark\\nQuestion: '  True\n",
      " 91  ' 10\\nQuestion: How ma'  ' 10\\nQuestion: How ma'  ' 10\\nQuestion: How ma'  True\n",
      " 92  ' Russia\\nQuestion: Wh'  ' Russia\\nQuestion: Wh'  ' Russia\\nQuestion: Wh'  True\n",
      " 93  ' 14,000\\nQuestion: Wh'  ' 14,000\\nQuestion: Ho'  ' 14,000\\nQuestion: Ho'  True\n",
      " 94  ' The Tesla Hotel\\nQue'  ' The Tesla Hotel\\nQue'  ' The New York Times\\n'  False\n",
      " 95  ' Departments\\nQuestio'  ' Departments\\nQuestio'  ' Departments\\nQuestio'  True\n",
      " 96  ' Two\\nQuestion: What '  ' Two\\nQuestion: What '  ' Two\\nQuestion: What '  True\n",
      " 97  ' Consultant\\nQuestion'  ' Consultant\\nQuestion'  ' Consultant\\nQuestion'  True\n",
      " 98  ' time\\nQuestion: What'  ' time\\nQuestion: What'  ' time\\nQuestion: What'  True\n",
      " 99  ' Short\\nQuestion: Who'  ' Short\\nQuestion: Who'  ' Short\\nQuestion: Who'  True\n",
      "100  ' hash tables\\nQuestio'  ' hash tables\\nQuestio'  ' hash tables\\nQuestio'  True\n",
      "101  ' Miami Dolphins Stad'   ' Miami Dolphins Stad'   ' Miami Dolphins Stad'   True\n",
      "102  ' Section 30\\nQuestion'  ' Section 30\\nQuestion'  ' Section 30\\nQuestion'  True\n",
      "103  ' John Michael Rysbra'   ' John Gibson\\nQuestio'  ' John Flaxman\\nQuesti'  False\n",
      "104  ' Nothing\\nQuestion: W'  ' Nothing\\nQuestion: W'  ' Nothing\\nQuestion: W'  True\n",
      "105  ' Rajendra K. Pachaur'   ' Rajendra K. Pachaur'   ' Rajendra K. Pachaur'   True\n",
      "106  ' Inherited wealth\\nQu'  ' Inherited wealth\\nQu'  ' Inherited wealth\\nQu'  True\n",
      "107  ' Neoclassical\\nQuesti'  ' Neoclassical\\nQuesti'  ' Neoclassical\\nQuesti'  True\n",
      "108  ' Roy Strong\\nQuestion'  ' Roy Strong\\nQuestion'  ' Roy Strong\\nQuestion'  True\n",
      "109  ' 3:08\\nQuestion: What'  ' 3:00\\nQuestion: What'  ' 3:00\\nQuestion: What'  True\n",
      "110  ' BankAmericard\\nQuest'  ' BankAmericard\\nQuest'  ' BankAmericard\\nQuest'  True\n",
      "111  ' 2nd century BCE\\nQue'  ' 2nd century BCE\\nQue'  ' 2nd century BCE\\nQue'  True\n",
      "112  ' 1598\\nQuestion: What'  ' 1598\\nQuestion: What'  ' 1598\\nQuestion: What'  True\n",
      "113  ' Vince Lombardi Trop'   ' Vince Lombardi Trop'   ' Vince Lombardi Trop'   True\n",
      "114  ' a commutator\\nQuesti'  ' a commutator\\nQuesti'  ' a commutator\\nQuesti'  True\n",
      "115  ' \"Wise up or die.\"\\nQ'  ' \"Filthy words\"\\nQues'  ' \"Filthy words\"\\nQues'  True\n",
      "116  ' photosynthesis\\nQues'  ' photosynthesis\\nQues'  ' photosynthesis\\nQues'  True\n",
      "117  ' comb-rows\\nQuestion:'  ' comb rows\\nQuestion:'  ' comb rows\\nQuestion:'  True\n",
      "118  ' Some legal requirem'   ' Some legal requirem'   ' Some legal requirem'   True\n",
      "119  ' the United States\\nQ'  ' the United States\\nQ'  ' the United States\\nQ'  True\n",
      "120  ' pump hydrogen ions '   ' pump hydrogen ions '   ' pump hydrogen ions '   True\n",
      "121  ' a few times\\nQuestio'  ' a lot\\nQuestion: How'  ' a few times\\nQuestio'  False\n",
      "122  ' Within a few days\\nQ'  ' Within a few days\\nQ'  ' Within a few days\\nQ'  True\n",
      "123  ' Enrique Pérez de Gu'   ' Enrique de Guzmán\\nQ'  ' Enrique de Guzman\\nQ'  False\n",
      "124  ' 1728\\nQuestion: What'  ' 1728\\nQuestion: What'  ' 1728\\nQuestion: When'  False\n",
      "125  ' Tsakhiagian Elbegdo'   ' Tsakhiagian Elbegdo'   ' Tsar Elbegdorj\\nQues'  False\n",
      "126  ' fourth\\nQuestion: Wh'  ' fourth\\nQuestion: Wh'  ' fourth\\nQuestion: Wh'  True\n",
      "127  ' Very little\\nQuestio'  ' Very little\\nQuestio'  ' Very little\\nQuestio'  True\n",
      "128  ' Smart ticketing\\nQue'  ' Smart ticketing\\nQue'  ' Smart ticketing\\nQue'  True\n",
      "129  ' The Patriots\\nQuesti'  ' The Patriots\\nQuesti'  ' The Patriots\\nQuesti'  True\n",
      "130  ' 1862\\nQuestion: What'  ' 1862\\nQuestion: What'  ' 1862\\nQuestion: What'  True\n",
      "131  ' photons\\nQuestion: W'  ' photons\\nQuestion: W'  ' photons\\nQuestion: W'  True\n",
      "132  ' Trevathan\\nQuestion:'  \" Tre'Davious White\\nQ\"  \" Tre'Davious White\\nQ\"  True\n",
      "133  ' Turing machine\\nQues'  ' Turing machine\\nQues'  ' Turing machine\\nQues'  True\n",
      "134  ' ten to fifteen\\nQues'  ' ten to fifteen\\nQues'  ' ten to fifteen\\nQues'  True\n",
      "135  ' covert lawbreaking\\n'  ' covert lawbreaking\\n'  ' covert lawbreaking\\n'  True\n",
      "136  ' the Book of Common '   ' the Book of Common '   ' the Book of Common '   True\n",
      "137  ' faith\\nQuestion: Wha'  ' faith\\nQuestion: Wha'  ' faith\\nQuestion: Wha'  True\n",
      "138  ' The Baltimore-Washi'   ' The Baltimore Confe'   ' The Baltimore Confe'   True\n",
      "139  ' New Jersey, Rhode I'   ' New Jersey, Rhode I'   ' New Jersey, Rhode I'   True\n",
      "140  ' $2 million\\nQuestion'  ' $1.5 million\\nQuesti'  ' $1.5 million\\nQuesti'  True\n",
      "141  ' William Pitt\\nQuesti'  ' William Pitt\\nQuesti'  ' William Pitt\\nQuesti'  True\n",
      "142  ' Capitol Hill, Washi'   ' Capitol Hill\\nQuesti'  ' Capitol Hill\\nQuesti'  True\n",
      "143  ' the mid-19th centur'   ' the mid-19th centur'   ' the early 19th cent'   False\n",
      "144  ' The Invocavit Sermo'   \" The Lord's Prayer\\nQ\"  \" The Lord's Prayer\\nQ\"  True\n",
      "145  ' 10,000\\nQuestion: Wh'  ' 10,000\\nQuestion: Ho'  ' 10,000\\nQuestion: Ho'  True\n",
      "146  ' The Netherlands\\nQue'  ' The Netherlands\\nQue'  ' The Netherlands\\nQue'  True\n",
      "147  ' friction\\nQuestion: '  ' friction\\nQuestion: '  ' friction\\nQuestion: '  True\n",
      "148  ' academic success\\nQu'  ' academic success\\nQu'  ' academic success\\nQu'  True\n",
      "149  ' polynomial time red'   ' polynomial time red'   ' polynomial time red'   True\n",
      "150  ' 2014\\nQuestion: Whic'  ' 2014\\nQuestion: Whic'  ' 2014\\nQuestion: Whic'  True\n",
      "151  ' The Five Doctors\\nQu'  ' The Brain of Morbiu'   ' The Brain of Morbiu'   True\n",
      "152  ' David\\nQuestion: Whi'  ' David\\nQuestion: Whi'  ' David\\nQuestion: Whi'  True\n",
      "153  ' Ealy\\nQuestion: How '  ' Earnest\\nQuestion: H'  ' Earnest\\nQuestion:'    False\n",
      "154  \" Ba'athism, Arab soc\"   \" Ba'athism\\nQuestion:\"  \" Ba'athism\\nQuestion:\"  True\n",
      "155  ' Yesün Temür\\nQuestio'  ' Yes\\nQuestion: Who w'  \" Yes, Ayurbarwada's \"   False\n",
      "156  ' Börte\\nQuestion: Wha'  ' Börte\\nQuestion: Wha'  ' Börte\\nQuestion: Wha'  True\n",
      "157  ' division\\nQuestion: '  ' division\\nQuestion: '  ' division\\nQuestion: '  True\n",
      "158  ' David Herlihy\\nQuest'  ' David Herlihy\\nQuest'  ' David Herlihy\\nQuest'  True\n",
      "159  ' Yes\\nQuestion: What '  ' Yes\\nQuestion: What '  ' Yes\\nQuestion: What '  True\n",
      "160  ' 487\\nQuestion: How m'  ' 487\\nQuestion: How m'  ' 487\\nQuestion: How m'  True\n",
      "161  ' my Patmos\\nQuestion:'  ' my Patmos\\nQuestion:'  ' my Patmos\\nQuestion:'  True\n",
      "162  ' The Harvard Library'   ' The Harvard Library'   ' The Harvard Library'   True\n",
      "163  ' \"The Lodger\"\\nQuesti'  ' \"The Name of the Do'   ' \"The Eleventh Docto'   False\n",
      "164  ' the mantle\\nQuestion'  ' the mantle\\nQuestion'  ' the mantle\\nQuestion'  True\n",
      "165  ' Autoimmunity\\nQuesti'  ' Autoimmune disease\\n'  ' Autoimmune disease\\n'  True\n",
      "166  ' The church conferen'   ' The Church Conferen'   ' The Church Council\\n'  False\n",
      "167  ' The Day of the Doct'   ' The Trial of a Time'   ' The Trial of a Time'   True\n",
      "168  ' The Curse of the Da'   ' The Doctor Who play'   ' The Doctor Who Play'   False\n",
      "169  ' dilemma\\nQuestion: W'  ' dilemma\\nQuestion: W'  ' dilemma\\nQuestion: W'  True\n",
      "170  ' 9\\nQuestion: How man'  ' 9\\nQuestion: How man'  ' 9\\nQuestion: How man'  True\n",
      "171  ' a degree\\nQuestion: '  ' a degree\\nQuestion: '  ' a degree\\nQuestion: '  True\n",
      "172  ' They are a componen'   ' They are CD3+\\nQuest'  ' They are T cells\\nQu'  False\n",
      "173  ' 2012\\nQuestion: What'  ' 2012\\nQuestion: What'  ' 2012\\nQuestion: What'  True\n",
      "174  ' 2014\\nQuestion: What'  ' 2014\\nQuestion: What'  ' 2014\\nQuestion: What'  True\n",
      "175  ' kilopond\\nQuestion: '  ' kilopond\\nQuestion: '  ' kilopond\\nQuestion: '  True\n",
      "176  ' The Pacific Ocean\\nQ'  ' The Pacific Ocean\\nQ'  ' The Pacific Ocean\\nQ'  True\n",
      "177  ' different ways to i'   ' different ways to i'   ' different ways to i'   True\n",
      "178  ' 2011\\nQuestion: When'  ' 2011\\nQuestion: When'  ' 2011\\nQuestion: When'  True\n",
      "179  ' The Catholic Church'   ' The State of Wiscon'   ' The State of Wiscon'   True\n",
      "180  ' tourism\\nQuestion: W'  ' tourism\\nQuestion: W'  ' tourism\\nQuestion: W'  True\n",
      "181  ' John Smeaton\\nQuesti'  ' John Smeaton\\nQuesti'  ' John Smeaton\\nQuesti'  True\n",
      "182  ' Aborigines\\nQuestion'  ' Aborigines\\nQuestion'  ' Aborigines\\nQuestion'  True\n",
      "183  ' The VAB was about 1'   ' The VAB was about t'   ' The VAB was about t'   True\n",
      "184  ' the Bible\\nQuestion:'  ' the Bible\\nQuestion:'  ' the Bible\\nQuestion:'  True\n",
      "185  ' Pharmacy informatic'   ' Pharmacy informatic'   ' Pharmacy informatic'   True\n",
      "186  ' General Board of Ch'   ' General Board of Gl'   ' General Board of Gl'   True\n",
      "187  ' Tang, Song, Khitan '   ' Tang, Song, Yuan, M'   ' Tang, Song, Yuan, M'   True\n",
      "188  ' They were farmers a'   ' They were artisans,'   ' They were farmers, '   False\n",
      "189  ' passenger volume\\nQu'  ' passenger volume\\nQu'  ' passenger volume\\nQu'  True\n",
      "190  ' Jean-Claude Juncker'   ' Jean-Claude Juncker'   ' Jean-Claude Juncker'   True\n",
      "191  ' Fresno\\nQuestion: Wh'  ' Fresno\\nQuestion: Wh'  ' Fresno\\nQuestion: Wh'  True\n",
      "192  ' No\\nQuestion: What w'  ' No\\nQuestion: What w'  ' No\\nQuestion: What w'  True\n",
      "193  ' Perotti showed that'   ' Perotti showed that'   ' Perotti, G. and P. '   False\n",
      "194  ' A sword\\nQuestion: W'  ' A sword\\nQuestion: W'  ' A sword\\nQuestion: W'  True\n",
      "195  ' the amount of land '   ' the amount of land '   ' the amount of land '   True\n",
      "196  ' Phagocytes\\nQuestion'  ' Phagocytes\\nQuestion'  ' Phagocytes\\nQuestion'  True\n",
      "197  ' Oswego\\nQuestion: Wh'  ' Oswego\\nQuestion: Wh'  ' Oswego\\nQuestion: Wh'  True\n",
      "198  ' Elway\\nQuestion: Who'  ' Elway\\nQuestion: Who'  ' Elway\\nQuestion: Who'  True\n",
      "199  ' a constricted regio'   ' a stromule is a bra'   ' a tube-like structu'   False\n"
     ]
    }
   ],
   "source": [
    "chars = 20\n",
    "print(tabulate.tabulate([\n",
    "    dict(dense=repr(b[\"output\"][:chars]),\n",
    "         eviction_ours=repr(o[\"output\"][:chars]),\n",
    "         eviction_h2o=repr(h[\"output\"][:chars]),\n",
    "         ours_matches_h20=o[\"output\"][:chars] == h[\"output\"][:chars])\n",
    "    for b, o, h in zip(out[\"dense\"], out[\"eviction_ours\"], out[\"eviction_h2o\"])\n",
    "], headers=\"keys\", showindex=True))"
   ]
  }
 ],
 "metadata": {
  "kernelspec": {
   "display_name": ".venv",
   "language": "python",
   "name": "python3"
  },
  "language_info": {
   "codemirror_mode": {
    "name": "ipython",
    "version": 3
   },
   "file_extension": ".py",
   "mimetype": "text/x-python",
   "name": "python",
   "nbconvert_exporter": "python",
   "pygments_lexer": "ipython3",
   "version": "3.8.10"
  },
  "orig_nbformat": 4
 },
 "nbformat": 4,
 "nbformat_minor": 2
}
