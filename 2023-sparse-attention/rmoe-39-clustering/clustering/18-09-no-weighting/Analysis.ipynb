{
 "cells": [
  {
   "cell_type": "code",
   "execution_count": 9,
   "metadata": {},
   "outputs": [],
   "source": [
    "import pandas as pd\n",
    "import matplotlib.pyplot as plt\n",
    "import matplotlib\n",
    "from pathlib import Path\n",
    "import json"
   ]
  },
  {
   "cell_type": "markdown",
   "metadata": {},
   "source": [
    "After processing prefill, cluster the keys into `k` clusters, keeping `local_k` number of local keys separate. This directly compares with regular eviction in terms of memory/bandwidth requirements."
   ]
  },
  {
   "cell_type": "code",
   "execution_count": 10,
   "metadata": {},
   "outputs": [],
   "source": [
    "original = pd.read_json(\"data/squad.jsonl\", lines=True)"
   ]
  },
  {
   "cell_type": "code",
   "execution_count": 11,
   "metadata": {},
   "outputs": [
    {
     "data": {
      "text/html": [
       "<div>\n",
       "<style scoped>\n",
       "    .dataframe tbody tr th:only-of-type {\n",
       "        vertical-align: middle;\n",
       "    }\n",
       "\n",
       "    .dataframe tbody tr th {\n",
       "        vertical-align: top;\n",
       "    }\n",
       "\n",
       "    .dataframe thead th {\n",
       "        text-align: right;\n",
       "    }\n",
       "</style>\n",
       "<table border=\"1\" class=\"dataframe\">\n",
       "  <thead>\n",
       "    <tr style=\"text-align: right;\">\n",
       "      <th></th>\n",
       "      <th>dataset</th>\n",
       "      <th>shots</th>\n",
       "      <th>model_scale</th>\n",
       "      <th>sparsity</th>\n",
       "      <th>k</th>\n",
       "      <th>local_ratio</th>\n",
       "      <th>results</th>\n",
       "      <th>_duration</th>\n",
       "    </tr>\n",
       "  </thead>\n",
       "  <tbody>\n",
       "    <tr>\n",
       "      <th>0</th>\n",
       "      <td>squad</td>\n",
       "      <td>1</td>\n",
       "      <td>1b</td>\n",
       "      <td>none</td>\n",
       "      <td>NaN</td>\n",
       "      <td>NaN</td>\n",
       "      <td>[{'id': '5711607f2419e314009555cf', 'output': ...</td>\n",
       "      <td>1297.809070</td>\n",
       "    </tr>\n",
       "    <tr>\n",
       "      <th>1</th>\n",
       "      <td>squad</td>\n",
       "      <td>1</td>\n",
       "      <td>1b</td>\n",
       "      <td>eviction</td>\n",
       "      <td>64.0</td>\n",
       "      <td>0.25</td>\n",
       "      <td>[{'id': '5711607f2419e314009555cf', 'output': ...</td>\n",
       "      <td>2902.680239</td>\n",
       "    </tr>\n",
       "    <tr>\n",
       "      <th>2</th>\n",
       "      <td>squad</td>\n",
       "      <td>1</td>\n",
       "      <td>1b</td>\n",
       "      <td>eviction</td>\n",
       "      <td>128.0</td>\n",
       "      <td>0.25</td>\n",
       "      <td>[{'id': '5711607f2419e314009555cf', 'output': ...</td>\n",
       "      <td>2759.579782</td>\n",
       "    </tr>\n",
       "    <tr>\n",
       "      <th>3</th>\n",
       "      <td>squad</td>\n",
       "      <td>1</td>\n",
       "      <td>1b</td>\n",
       "      <td>eviction</td>\n",
       "      <td>256.0</td>\n",
       "      <td>0.25</td>\n",
       "      <td>[{'id': '5711607f2419e314009555cf', 'output': ...</td>\n",
       "      <td>2717.690772</td>\n",
       "    </tr>\n",
       "    <tr>\n",
       "      <th>4</th>\n",
       "      <td>squad</td>\n",
       "      <td>1</td>\n",
       "      <td>1b</td>\n",
       "      <td>eviction</td>\n",
       "      <td>512.0</td>\n",
       "      <td>0.25</td>\n",
       "      <td>[{'id': '5711607f2419e314009555cf', 'output': ...</td>\n",
       "      <td>2719.688717</td>\n",
       "    </tr>\n",
       "    <tr>\n",
       "      <th>5</th>\n",
       "      <td>squad</td>\n",
       "      <td>1</td>\n",
       "      <td>1b</td>\n",
       "      <td>eviction</td>\n",
       "      <td>1024.0</td>\n",
       "      <td>0.25</td>\n",
       "      <td>[{'id': '5711607f2419e314009555cf', 'output': ...</td>\n",
       "      <td>2873.645208</td>\n",
       "    </tr>\n",
       "    <tr>\n",
       "      <th>6</th>\n",
       "      <td>squad</td>\n",
       "      <td>1</td>\n",
       "      <td>1b</td>\n",
       "      <td>clustering</td>\n",
       "      <td>64.0</td>\n",
       "      <td>0.25</td>\n",
       "      <td>[{'id': '5711607f2419e314009555cf', 'output': ...</td>\n",
       "      <td>3404.175287</td>\n",
       "    </tr>\n",
       "    <tr>\n",
       "      <th>7</th>\n",
       "      <td>squad</td>\n",
       "      <td>1</td>\n",
       "      <td>1b</td>\n",
       "      <td>clustering</td>\n",
       "      <td>128.0</td>\n",
       "      <td>0.25</td>\n",
       "      <td>[{'id': '5711607f2419e314009555cf', 'output': ...</td>\n",
       "      <td>2729.317931</td>\n",
       "    </tr>\n",
       "    <tr>\n",
       "      <th>8</th>\n",
       "      <td>squad</td>\n",
       "      <td>1</td>\n",
       "      <td>1b</td>\n",
       "      <td>clustering</td>\n",
       "      <td>256.0</td>\n",
       "      <td>0.25</td>\n",
       "      <td>[{'id': '5711607f2419e314009555cf', 'output': ...</td>\n",
       "      <td>2491.036859</td>\n",
       "    </tr>\n",
       "    <tr>\n",
       "      <th>9</th>\n",
       "      <td>squad</td>\n",
       "      <td>1</td>\n",
       "      <td>1b</td>\n",
       "      <td>clustering</td>\n",
       "      <td>512.0</td>\n",
       "      <td>0.25</td>\n",
       "      <td>[{'id': '5711607f2419e314009555cf', 'output': ...</td>\n",
       "      <td>2310.196185</td>\n",
       "    </tr>\n",
       "  </tbody>\n",
       "</table>\n",
       "</div>"
      ],
      "text/plain": [
       "  dataset  shots model_scale    sparsity       k  local_ratio  \\\n",
       "0   squad      1          1b        none     NaN          NaN   \n",
       "1   squad      1          1b    eviction    64.0         0.25   \n",
       "2   squad      1          1b    eviction   128.0         0.25   \n",
       "3   squad      1          1b    eviction   256.0         0.25   \n",
       "4   squad      1          1b    eviction   512.0         0.25   \n",
       "5   squad      1          1b    eviction  1024.0         0.25   \n",
       "6   squad      1          1b  clustering    64.0         0.25   \n",
       "7   squad      1          1b  clustering   128.0         0.25   \n",
       "8   squad      1          1b  clustering   256.0         0.25   \n",
       "9   squad      1          1b  clustering   512.0         0.25   \n",
       "\n",
       "                                             results    _duration  \n",
       "0  [{'id': '5711607f2419e314009555cf', 'output': ...  1297.809070  \n",
       "1  [{'id': '5711607f2419e314009555cf', 'output': ...  2902.680239  \n",
       "2  [{'id': '5711607f2419e314009555cf', 'output': ...  2759.579782  \n",
       "3  [{'id': '5711607f2419e314009555cf', 'output': ...  2717.690772  \n",
       "4  [{'id': '5711607f2419e314009555cf', 'output': ...  2719.688717  \n",
       "5  [{'id': '5711607f2419e314009555cf', 'output': ...  2873.645208  \n",
       "6  [{'id': '5711607f2419e314009555cf', 'output': ...  3404.175287  \n",
       "7  [{'id': '5711607f2419e314009555cf', 'output': ...  2729.317931  \n",
       "8  [{'id': '5711607f2419e314009555cf', 'output': ...  2491.036859  \n",
       "9  [{'id': '5711607f2419e314009555cf', 'output': ...  2310.196185  "
      ]
     },
     "execution_count": 11,
     "metadata": {},
     "output_type": "execute_result"
    }
   ],
   "source": [
    "original"
   ]
  },
  {
   "cell_type": "markdown",
   "metadata": {},
   "source": [
    "**Note**: `clustering` with `k=1024` broke due to examples in the dataset that had fewer than 1024 keys, as `kmeans` initialisation expects the number of vector elements to be bigger than the number of clusters."
   ]
  },
  {
   "cell_type": "code",
   "execution_count": 12,
   "metadata": {},
   "outputs": [],
   "source": [
    "def load_sweep(path: str) -> pd.DataFrame:\n",
    "    with open(path) as f:\n",
    "        return pd.DataFrame.from_dict(\n",
    "            dict(**line, **result)\n",
    "            for line in filter(lambda d: \"results\" in d, map(json.loads, f))\n",
    "            for result in line[\"results\"]\n",
    "        ).drop(columns=[\"results\", \"_duration\"])\n",
    "\n",
    "\n",
    "pd.concat([load_sweep(f) for f in Path(\"data\").glob(\"*.jsonl\")]).reset_index(\n",
    "    drop=True\n",
    ").drop(columns=[\"id\", \"output\", \"local_ratio\", \"prefill_length\"]).groupby(\n",
    "    [\"dataset\", \"shots\", \"model_scale\", \"sparsity\", \"k\"], dropna=False\n",
    ").mean().reset_index().to_json(\n",
    "    \"summary.jsonl\",\n",
    "    orient=\"records\",\n",
    "    lines=True\n",
    ")\n"
   ]
  },
  {
   "cell_type": "code",
   "execution_count": 13,
   "metadata": {},
   "outputs": [],
   "source": [
    "df = pd.read_json(\"summary.jsonl\", lines=True)"
   ]
  },
  {
   "cell_type": "code",
   "execution_count": 14,
   "metadata": {},
   "outputs": [],
   "source": [
    "grouped = df.groupby(\"sparsity\")"
   ]
  },
  {
   "cell_type": "code",
   "execution_count": 15,
   "metadata": {},
   "outputs": [
    {
     "data": {
      "image/png": "[encoded data removed]",
      "text/plain": [
       "<Figure size 640x480 with 1 Axes>"
      ]
     },
     "metadata": {},
     "output_type": "display_data"
    }
   ],
   "source": [
    "for sparsity, f in grouped:\n",
    "    if sparsity == \"none\":\n",
    "        plt.axhline(y = f[\"match\"].item(), color = \"black\", linestyle=\"--\", label=\"dense\")\n",
    "    else:\n",
    "        plt.plot(f[\"k\"], f[\"match\"], label=sparsity)\n",
    "plt.xscale(\"log\", base=2)\n",
    "ax = plt.gca()\n",
    "ax.xaxis.set_major_formatter(matplotlib.ticker.ScalarFormatter())\n",
    "ax.yaxis.set_major_formatter(matplotlib.ticker.StrMethodFormatter(\"{x:.0%}\"))\n",
    "plt.legend(loc=\"lower right\")\n",
    "plt.title(\"Clustering vs Eviction\\n(SQuAD, Pythia-1b)\")\n",
    "plt.xlabel(\"k\")\n",
    "plt.ylabel(\"Accuracy\")\n",
    "plt.show()"
   ]
  }
 ],
 "metadata": {
  "kernelspec": {
   "display_name": ".venv",
   "language": "python",
   "name": "python3"
  },
  "language_info": {
   "codemirror_mode": {
    "name": "ipython",
    "version": 3
   },
   "file_extension": ".py",
   "mimetype": "text/x-python",
   "name": "python",
   "nbconvert_exporter": "python",
   "pygments_lexer": "ipython3",
   "version": "3.8.10"
  },
  "orig_nbformat": 4
 },
 "nbformat": 4,
 "nbformat_minor": 2
}
