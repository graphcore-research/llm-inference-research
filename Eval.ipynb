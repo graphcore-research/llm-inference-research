{
 "cells": [
  {
   "cell_type": "code",
   "execution_count": 1,
   "metadata": {},
   "outputs": [
    {
     "name": "stderr",
     "output_type": "stream",
     "text": [
      "/nethome/douglaso/work/LLMInference/.venv/lib/python3.8/site-packages/tqdm/auto.py:21: TqdmWarning: IProgress not found. Please update jupyter and ipywidgets. See https://ipywidgets.readthedocs.io/en/stable/user_install.html\n",
      "  from .autonotebook import tqdm as notebook_tqdm\n"
     ]
    }
   ],
   "source": [
    "%load_ext autoreload\n",
    "%autoreload 2\n",
    "\n",
    "import llminference as L"
   ]
  },
  {
   "attachments": {},
   "cell_type": "markdown",
   "metadata": {},
   "source": [
    "# Load a pretrained model & evaluate\n",
    "\n",
    "This codebase provides & interfaces with multiple harnesses for evaluating language models, with a particular focus on text generation."
   ]
  },
  {
   "cell_type": "code",
   "execution_count": 2,
   "metadata": {},
   "outputs": [],
   "source": [
    "adapter = L.Adapter.from_pretrained(\"EleutherAI/pythia-410m\")"
   ]
  },
  {
   "cell_type": "markdown",
   "metadata": {},
   "source": [
    "## SQuAD\n",
    "\n",
    "We evaluate SQuAD using a custom harness. It is quite bare-bones, so it's easy to get hands-on with the data & results."
   ]
  },
  {
   "cell_type": "code",
   "execution_count": 8,
   "metadata": {},
   "outputs": [
    {
     "data": {
      "text/plain": [
       "{'id': '57274e145951b619008f87eb',\n",
       " 'context': 'Title: Martin Luther. Background: On 31 October 1517, Luther wrote to his bishop, Albert of Mainz, protesting the sale of indulgences. He enclosed in his letter a copy of his \"Disputation of Martin Luther on the Power and Efficacy of Indulgences\", which came to be known as The Ninety-Five Theses. Hans Hillerbrand writes that Luther had no intention of confronting the church, but saw his disputation as a scholarly objection to church practices, and the tone of the writing is accordingly \"searching, rather than doctrinaire.\" Hillerbrand writes that there is nevertheless an undercurrent of challenge in several of the theses, particularly in Thesis 86, which asks: \"Why does the pope, whose wealth today is greater than the wealth of the richest Crassus, build the basilica of St. Peter with the money of poor believers rather than with his own money?\"\\nTitle: American Broadcasting Company. Background: In the spring of 1975, Fred Pierce, the newly appointed president of ABC Television, convinced Fred Silverman to become the first president and director of programming of the independent television production subsidiary ABC Entertainment, created from the network\\'s namesake programming division. In 1974, ABC premiered the detective series S.W.A.T. That same year, the network made the decision to compete with NBC\\'s morning news-talk program Today. Its first attempt at such competition was AM America; however, that show\\'s success was not straightforward. One of its affiliates, WCVB-TV premiered morning show Good Day!. First premiering in 1973 as Good Morning!, it was groundbreaking for being entirely produced on the road and broadcasting from locations outside of the Boston area. Also, in the summer of 1975, ABC discovered that its Cleveland affiliate WEWS-TV was producing its own morning program The Morning Exchange, which debuted in 1972 and was now locally pre-empting AM America; it was the first morning show to utilize a set modeled after a living room, and established a concept now commonplace among network morning shows in which news and weather updates were featured at the top and bottom of each hour. Discovering that their formats seemed to appeal to their viewers, the network became the first to adopt them for a new national morning show, Good Morning America, which debuted on November 3, 1975.\\nTitle: Victoria (Australia). Background: The economy of Victoria is highly diversified: service sectors including financial and property services, health, education, wholesale, retail, hospitality and manufacturing constitute the majority of employment. Victoria\\'s total gross state product (GSP) is ranked second in Australia, although Victoria is ranked fourth in terms of GSP per capita because of its limited mining activity. Culturally, Melbourne is home to a number of museums, art galleries and theatres and is also described as the \"sporting capital of Australia\". The Melbourne Cricket Ground is the largest stadium in Australia, and the host of the 1956 Summer Olympics and the 2006 Commonwealth Games. The ground is also considered the \"spiritual home\" of Australian cricket and Australian rules football, and hosts the grand final of the Australian Football League (AFL) each year, usually drawing crowds of over 95,000 people. Victoria includes eight public universities, with the oldest, the University of Melbourne, having been founded in 1853.\\nTitle: Prime number. Background: The evolutionary strategy used by cicadas of the genus Magicicada make use of prime numbers. These insects spend most of their lives as grubs underground. They only pupate and then emerge from their burrows after 7, 13 or 17 years, at which point they fly about, breed, and then die after a few weeks at most. The logic for this is believed to be that the prime number intervals between emergences make it very difficult for predators to evolve that could specialize as predators on Magicicadas. If Magicicadas appeared at a non-prime number intervals, say every 12 years, then predators appearing every 2, 3, 4, 6, or 12 years would be sure to meet them. Over a 200-year period, average predator populations during hypothetical outbreaks of 14- and 15-year cicadas would be up to 2% higher than during outbreaks of 13- and 17-year cicadas. Though small, this advantage appears to have been enough to drive natural selection in favour of a prime-numbered life-cycle for these insects.\\nTitle: Private school. Background: The other category of schools are those run and partly or fully funded by private individuals, private organizations and religious groups. The ones that accept government funds are called \\'aided\\' schools. The private \\'un-aided\\' schools are fully funded by private parties. The standard and the quality of education is quite high. Technically, these would be categorized as private schools, but many of them have the name \"Public School\" appended to them, e.g., the Galaxy Public School in Kathmandu. Most of the middle-class families send their children to such schools, which might be in their own city or far off, like boarding schools. The medium of education is English, but as a compulsory subject, Nepali and/or the state\\'s official language is also taught. Preschool education is mostly limited to organized neighbourhood nursery schools.\\nTitle: Genghis Khan. Background: Börte had three more sons, Chagatai (1187—1241), Ögedei (1189—1241), and Tolui (1190–1232). Genghis Khan also had many other children with his other wives, but they were excluded from the succession. While the names of sons were documented, daughters were not. The names of at least six daughters are known, and while they played significant roles behind the scenes during his lifetime, no documents have survived that definitively provide the number or names of daughters born to the consorts of Genghis Khan.\\nTitle: Nikola Tesla. Background: In 1898, Tesla demonstrated a radio-controlled boat—which he dubbed \"teleautomaton\"—to the public during an electrical exhibition at Madison Square Garden. The crowd that witnessed the demonstration made outrageous claims about the workings of the boat, such as magic, telepathy, and being piloted by a trained monkey hidden inside. Tesla tried to sell his idea to the U.S. military as a type of radio-controlled torpedo, but they showed little interest. Remote radio control remained a novelty until World War I and afterward, when a number of countries used it in military programs. Tesla took the opportunity to further demonstrate \"Teleautomatics\" in an address to a meeting of the Commercial Club in Chicago, while he was travelling to Colorado Springs, on 13 May 1899.\\nTitle: Normans. Background: The Norman dynasty had a major political, cultural and military impact on medieval Europe and even the Near East. The Normans were famed for their martial spirit and eventually for their Christian piety, becoming exponents of the Catholic orthodoxy into which they assimilated. They adopted the Gallo-Romance language of the Frankish land they settled, their dialect becoming known as Norman, Normaund or Norman French, an important literary language. The Duchy of Normandy, which they formed by treaty with the French crown, was a great fief of medieval France, and under Richard I of Normandy was forged into a cohesive and formidable principality in feudal tenure. The Normans are noted both for their culture, such as their unique Romanesque architecture and musical traditions, and for their significant military accomplishments and innovations. Norman adventurers founded the Kingdom of Sicily under Roger II after conquering southern Italy on the Saracens and Byzantines, and an expedition on behalf of their duke, William the Conqueror, led to the Norman conquest of England at the Battle of Hastings in 1066. Norman cultural and military influence spread from these new European centres to the Crusader states of the Near East, where their prince Bohemond I founded the Principality of Antioch in the Levant, to Scotland and Wales in Great Britain, to Ireland, and to the coasts of north Africa and the Canary Islands.\\nFrom what you\\'ve just read about Private school, please answer the following questions.',\n",
       " 'question': 'In addition to English, what language is also often taught in Nepalese private schools?',\n",
       " 'answers': ['Nepali', 'Nepali', 'Nepali'],\n",
       " 'examples': [{'answers': ['fully funded by private parties',\n",
       "    'fully funded by private parties',\n",
       "    'fully funded by private parties'],\n",
       "   'id': '57274e145951b619008f87e8',\n",
       "   'question': \"How are 'un-aided' schools different from 'aided' schools?\"},\n",
       "  {'answers': ['aided', 'aided', 'aided'],\n",
       "   'id': '57274e145951b619008f87e7',\n",
       "   'question': 'What is a term for schools that receive government assistance?'},\n",
       "  {'answers': ['English', 'English', 'English'],\n",
       "   'id': '57274e145951b619008f87ea',\n",
       "   'question': 'In Nepalese private schools, what is the primary language of instruction?'},\n",
       "  {'answers': ['Kathmandu', 'Kathmandu', 'Kathmandu'],\n",
       "   'id': '57274e145951b619008f87e9',\n",
       "   'question': 'Where is Galaxy Public School located?'},\n",
       "  {'answers': ['2010', 'the 2010 series', 'the 2010 series'],\n",
       "   'id': '5728185f3acd2414000df45c',\n",
       "   'question': 'Which series version had a negative reception from some Doctor Who viewers?'}],\n",
       " 'prompt': \"Question: How are 'un-aided' schools different from 'aided' schools?\\nAnswer: fully funded by private parties\\nQuestion: In addition to English, what language is also often taught in Nepalese private schools?\\nAnswer:\"}"
      ]
     },
     "metadata": {},
     "output_type": "display_data"
    },
    {
     "name": "stderr",
     "output_type": "stream",
     "text": [
      "Evaluating EleutherAI/pythia-410m: 100%|██████████| 1/1 [01:12<00:00, 72.33s/it]\n"
     ]
    },
    {
     "data": {
      "text/plain": [
       "{'id': '57274e145951b619008f87eb',\n",
       " 'output': \" Nepali\\nQuestion: What is the difference between 'private' and 'un-aided' schools?\\nAnswer:\",\n",
       " 'match': True,\n",
       " 'prefill_length': 1748}"
      ]
     },
     "metadata": {},
     "output_type": "display_data"
    },
    {
     "name": "stdout",
     "output_type": "stream",
     "text": [
      "accuracy 0.2\n"
     ]
    }
   ],
   "source": [
    "squad_data = L.qa.SQuAD.data()\n",
    "examples = [L.qa.add_few_shot_prompt(squad_data[i], k=1, prompt_template=L.qa.get_default_prompt_template(adapter.model.config._name_or_path, shots=1))\n",
    "            for i in range(10)]\n",
    "display(examples[3])\n",
    "results = list(L.qa.evaluate(adapter, examples, batch_size=10))\n",
    "display(results[3])\n",
    "print(\"accuracy\", sum(r[\"match\"] for r in results) / len(results))"
   ]
  },
  {
   "cell_type": "markdown",
   "metadata": {},
   "source": [
    "## Outcompare\n",
    "\n",
    "Outcompare is a custom harness for comparing the greedy generations of a language model against a reference output (e.g. the same model, before quantisation to low-precision)."
   ]
  },
  {
   "cell_type": "code",
   "execution_count": 9,
   "metadata": {},
   "outputs": [
    {
     "data": {
      "text/plain": [
       "{'entropy_rmse': 0.0,\n",
       " 'entropy_rmse_stderr': 0.0,\n",
       " 'exact_match_length': 64.0,\n",
       " 'exact_match_length_stderr': 0.0,\n",
       " 'edit_distance_L16': 0.0,\n",
       " 'edit_distance_L16_stderr': 0.0}"
      ]
     },
     "metadata": {},
     "output_type": "display_data"
    }
   ],
   "source": [
    "outcompare_data = L.outcompare.Dataset.load(\"../data/pythia-410m.json\")\n",
    "display(L.outcompare.evaluate(adapter.model, outcompare_data, batch_size=16, limit=64))"
   ]
  },
  {
   "attachments": {},
   "cell_type": "markdown",
   "metadata": {},
   "source": [
    "### Deliberately mess up the model & see what happens"
   ]
  },
  {
   "cell_type": "code",
   "execution_count": 10,
   "metadata": {},
   "outputs": [
    {
     "data": {
      "text/plain": [
       "{'entropy_rmse': 0.2652008831501007,\n",
       " 'entropy_rmse_stderr': 0.05454297363758087,\n",
       " 'exact_match_length': 6.546875,\n",
       " 'exact_match_length_stderr': 0.8977843523025513,\n",
       " 'edit_distance_L16': 7.640625,\n",
       " 'edit_distance_L16_stderr': 0.6312651038169861}"
      ]
     },
     "metadata": {},
     "output_type": "display_data"
    }
   ],
   "source": [
    "adapter.model.gpt_neox.layers[4].attention.dense.weight.data.fill_(0)\n",
    "display(L.outcompare.evaluate(adapter.model, outcompare_data, batch_size=16, limit=64))"
   ]
  }
 ],
 "metadata": {
  "kernelspec": {
   "display_name": ".venv",
   "language": "python",
   "name": "python3"
  },
  "language_info": {
   "codemirror_mode": {
    "name": "ipython",
    "version": 3
   },
   "file_extension": ".py",
   "mimetype": "text/x-python",
   "name": "python",
   "nbconvert_exporter": "python",
   "pygments_lexer": "ipython3",
   "version": "3.8.10"
  },
  "orig_nbformat": 4
 },
 "nbformat": 4,
 "nbformat_minor": 2
}
