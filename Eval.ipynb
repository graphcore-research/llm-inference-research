{
 "cells": [
  {
   "cell_type": "code",
   "execution_count": 1,
   "metadata": {},
   "outputs": [],
   "source": [
    "%load_ext autoreload\n",
    "%autoreload 2\n",
    "import lm_eval.evaluator\n",
    "import llminference as L"
   ]
  },
  {
   "attachments": {},
   "cell_type": "markdown",
   "metadata": {},
   "source": [
    "# Load a pretrained model & evaluate\n",
    "\n",
    "This codebase provides & interfaces with multiple harnesses for evaluating language models, with a particular focus on text generation."
   ]
  },
  {
   "cell_type": "code",
   "execution_count": 9,
   "metadata": {},
   "outputs": [],
   "source": [
    "adapter = L.Adapter.from_pretrained(\"EleutherAI/pythia-410m\")"
   ]
  },
  {
   "cell_type": "markdown",
   "metadata": {},
   "source": [
    "## TriviaQA\n",
    "\n",
    "We evaluate TriviaQA using a custom harness including handling for on-disk context caching. It is quite bare-bones, so it's easy to get hands-on with the data & results."
   ]
  },
  {
   "cell_type": "code",
   "execution_count": 17,
   "metadata": {},
   "outputs": [
    {
     "name": "stderr",
     "output_type": "stream",
     "text": [
      "Found cached dataset trivia_qa (/nethome/douglaso/.cache/huggingface/datasets/trivia_qa/rc/1.2.0/ee76d8a9403e71177e2a3fa7e414d1ee28a79a0970d9176f62f268798aa64b31)\n"
     ]
    },
    {
     "data": {
      "application/vnd.jupyter.widget-view+json": {
       "model_id": "b9284db9e228491ba88282525bc22f3a",
       "version_major": 2,
       "version_minor": 0
      },
      "text/plain": [
       "  0%|          | 0/3 [00:00<?, ?it/s]"
      ]
     },
     "metadata": {},
     "output_type": "display_data"
    },
    {
     "name": "stderr",
     "output_type": "stream",
     "text": [
      "Loading cached processed dataset at /nethome/douglaso/.cache/huggingface/datasets/trivia_qa/rc/1.2.0/ee76d8a9403e71177e2a3fa7e414d1ee28a79a0970d9176f62f268798aa64b31/cache-ff2e232cc9aacce1.arrow\n",
      "Loading cached shuffled indices for dataset at /nethome/douglaso/.cache/huggingface/datasets/trivia_qa/rc/1.2.0/ee76d8a9403e71177e2a3fa7e414d1ee28a79a0970d9176f62f268798aa64b31/cache-605e4ea0cb72fde7.arrow\n"
     ]
    },
    {
     "data": {
      "text/plain": [
       "{'question': 'What was Amy Williams sled called on which she won Olympic gold for Britain at Vancouver in the Skeleton event?',\n",
       " 'question_id': 'bb_9117',\n",
       " 'answers': ['Arthur', 'Arthur (name)'],\n",
       " 'context': 'Amy Williams: My body told me it was time to quit | Daily Mail Online\\ncomments\\nOlympic champion Amy Williams remembers how she fought an urge to cry as she climbed from her sled at the skeleton bob World Championships in Lake Placid.\\nWhile others rushed to congratulate her on her finest performance since she had swept into the hearts of the nation at the Vancouver Games two years earlier, her reaction had nothing to do with finishing fifth.\\nAfter 10 years of hurling herself head first down a mountain on a tea tray, she knew she had raced for the last time.\\nAll over: Amy knew she had to call a halt to her skeleton years, but  is excited  at carving out a new future\\n‘My body was screaming out: “Stop, stop, stop!” ’ said Williams as she recalled the precise moment two months ago, at the track a five-hour drive from New York, when she realised she could not face a further two years of pain in order to defend her Olympic title at Sochi in Russia.\\nTravelling for a decade at 80mph, inches above a crusty ice track while encountering G-forces experienced by Formula One drivers, her battered and bruised body needed too-frequent epidural injections, a cocktail of painkillers and a mass of tape to hold her back in place. ‘It’s something I’ve battled silently for years,’ she said.\\xa0\\nEven at the Vancouver Games: ‘I had a back seizure two days before my first race and I could barely reach down to touch my sled for the push start. I needed injections and painkillers.\\n‘I’ve had problems with a bulging, degenerative disc for eight years and I had to be strapped up every day. Before the Olympics, you put up with it. You’re on a mission. You blank out the pain.’\\nWhen Amy won gold to lift the nation...\\nAmy Williams was the girl-next-door who captured the affection of the nation when she won Britain’s first individual Winter Olympic gold for 30 years at the 2010 Games on a sled nicknamed Arthur. In 2002,\\xa0 she had paid £700 to attend an ice camp arranged by the Army as an introduction to skeleton bob —\\xa0 and eight years later she fearlessly claimed the title.\\nIt was a mission she accomplished on a savagely cold night at Whistler. Williams’s courage, bold racing lines and mind-management delivered the first individual gold medal for Britain at the Winter Olympics since Robin Cousins skated to glory 30 years earlier. Headlines proclaimed her triumph across the country. At her home in Bath they paraded her through the streets.\\nBut ever since, Williams has dealt with a post-Games syndrome when her life, though contented, was a blur of confusion. Initially she lacked motivation, her long-term romance collapsed; then, over this past winter when she was focused again, Williams was plagued by unresolved technical issues with her sled.\\nAt Christmas, she was relegated from the televised World Cup series to the second-tier Intercontinental Cup, where ‘newbies’ serve their apprenticeship and any spectators are related to competitors.\\n‘With poor results, the constant pain was wearing me down like never before,’ she said. ‘I thought, “Do I need to go through this pain every day?” I’m a home girl and for five months each winter we’re hardly in our own beds. I was almost at the point of dreading every race as I couldn’t make any sense as to why my sled was not quicker.\\nGolden Girl: Amy Williams poses with her Winter Olympics gold medal\\n‘In addition, my doctor at Bath University, who has looked after me for years and treats me like a daughter, had warned of the risks I faced by carrying on in my sport. It’s not good to have epidural injections a few times a year for so many years.\\n‘As I struggled, Sochi felt years away. I knew at Lake Placid that I was done, no matter how sad that made me. I knew I could walk away with my head held high.’\\nIronically, as she talked, her right knee was wrapped in a brace from thigh to ankle.\\n‘Can you believe I did this on a machine in a gym as I was exercising for fun last week?’ she said. Williams passed out and went to hospital by ambulance before surgery two days later, performed at Spire Bristol Hospital by former England rugby star Jonathan Webb.\\n‘I’m saddened to have retired — I still absolutely love lying on my sled in a race — but if I didn’t stop now I’d have to beast myself for another two years to get to the next Olympics,’ said Williams.\\nCalling it a day: Williams has decided to quit\\nLike other women approaching their 30th birthday, she is also listening more intently to her body clock; not least as her twin sister Ruth, and her older brother, Simon, have both recently become parents. ‘I’m an Auntie to Max and Chloe,’ she smiled. ‘It makes you realise everyone around you is going into the next phase of life.\\n‘I’d love a family. I can’t wait for my moment — when it’s right. I’m not retiring because I want to have a kid tomorrow. But family life is important to me — and when your twin sister, brother, and other close friends are married with kids, it shifts how you think. But I’m a traditionalist. I’d want to be married before I became a mother.’\\nWilliams is in a new relationship, but will say little more. ‘Having a solid relationship when I’m not jetting off for five months of the year is important, and something I’ll be working on,’ she explained.\\nHer Olympic story is not yet over, though. She is an ambassador for London 2012 with knowledge to impart to any Team GB athlete who wants to learn about an Olympic champion’s first-hand experiences of dealing with stress, expectation and the art of winning on the biggest stage of all. ‘I’m here to help in any way I can,’ she said.\\nOn top of the world: Williams jumps for joy with her 2010 Olympic Gold medal in Vancouver\\nWhile Williams’s gold has brought her a sponsored car, and opened doors to appearances on TV shows such as 71 degrees North, and Discovery Channel’s Alone In The Wild, she knows Britain’s Olympic champions this summer can expect far greater rewards.\\nHit on the red carpet: Amy Williams attends at the Sport Industry Awards earlier this month\\n‘There will always be a big difference between the winners of summer and winter Olympics,’ said Williams, who has the charisma that is bound to enhance her hopes of a broadcasting career.\\n‘I open magazines and see our athletes sponsoring products. That never happened to me. I still have bills to pay, a mortgage on my flat in Bath; and I remain very careful with money as I don’t have loads.\\n‘But I’m not grumbling. My medal is worth more than any money anyone can throw afterwards.’\\nOnly recently she took her medal to assist a fund-raising event for the British rhythm gymnastics Olympic squad at Bath. ‘People paid to be photographed with the medal,’ said Williams.\\nShe is excited by the future. ‘I’d love to do some challenging TV adventure stuff,’ she said. ‘Maybe not as extreme as Bear Grylls or James Cracknell; but I’d like to push myself, to inspire women as I still crave the buzz and adrenalin-charge I had from skeleton.’\\nLast week she was at BBC Bristol being taught the rudiments of live broadcasting in preparation for the programme, Olympic Torch Live: West, on May 22.\\n‘I’ll always be a skeleton girl!’ laughed Williams. ‘I’ll find it hard to watch the next Winter Games, but I know I couldn’t put everything else I want to do on hold for two years. My body wouldn’t have taken much more.\\n‘The future is scary … but exciting. Hopefully, I’ll find something to put all my passion and drive into.’',\n",
       " 'prompt': '\\nQuestion: What was Amy Williams sled called on which she won Olympic gold for Britain at Vancouver in the Skeleton event?\\nSingle-word answer:'}"
      ]
     },
     "metadata": {},
     "output_type": "display_data"
    },
    {
     "name": "stderr",
     "output_type": "stream",
     "text": [
      "Evaluating EleutherAI/pythia-410m: 100%|██████████| 2/2 [00:10<00:00,  5.14s/it]\n"
     ]
    },
    {
     "data": {
      "text/plain": [
       "{'question_id': 'bb_9117',\n",
       " 'output': '\\n\\nAmy Williams\\n\\nAmy Williams\\n\\nAmy Williams\\n\\nAmy Williams\\n\\nAmy Williams\\n\\nAmy Williams',\n",
       " 'match': False}"
      ]
     },
     "metadata": {},
     "output_type": "display_data"
    },
    {
     "name": "stdout",
     "output_type": "stream",
     "text": [
      "em_accuracy 0.15\n"
     ]
    }
   ],
   "source": [
    "triviaqa_data = L.qa.TriviaQA.data()\n",
    "examples = [L.qa.add_zero_shot_prompt(triviaqa_data[i], L.qa.TriviaQA.DEFAULT_PROMPT) for i in range(20)]\n",
    "display(examples[2])\n",
    "results = list(L.qa.evaluate(adapter, examples, batch_size=10, open_book=False, use_cache=False))\n",
    "display(results[2])\n",
    "print(\"em_accuracy\", sum(r[\"match\"] for r in results) / len(results))"
   ]
  },
  {
   "cell_type": "markdown",
   "metadata": {},
   "source": [
    "## LM Evaluation Harness\n",
    "\n",
    "[LM-Eval](https://github.com/EleutherAI/lm-evaluation-harness) provides a broad set of tasks that are easy to plug into."
   ]
  },
  {
   "cell_type": "code",
   "execution_count": 5,
   "metadata": {},
   "outputs": [
    {
     "name": "stderr",
     "output_type": "stream",
     "text": [
      "Found cached dataset wikitext_document_level (/nethome/douglaso/.cache/huggingface/datasets/EleutherAI___wikitext_document_level/wikitext-2-raw-v1/1.0.0/c7f10a7786444f898dd236db33d4bee9b130f8cbcac690e7bde9b0d027e19fc1)\n"
     ]
    },
    {
     "data": {
      "application/vnd.jupyter.widget-view+json": {
       "model_id": "f3d3b11f051f46349dcfabed7f3e1e9b",
       "version_major": 2,
       "version_minor": 0
      },
      "text/plain": [
       "  0%|          | 0/3 [00:00<?, ?it/s]"
      ]
     },
     "metadata": {},
     "output_type": "display_data"
    },
    {
     "name": "stdout",
     "output_type": "stream",
     "text": [
      "Running loglikelihood_rolling requests\n"
     ]
    },
    {
     "name": "stderr",
     "output_type": "stream",
     "text": [
      "100%|██████████| 2/2 [00:28<00:00, 14.25s/it]\n"
     ]
    },
    {
     "data": {
      "text/plain": [
       "{'results': {'wikitext': {'word_perplexity': 19.207863308659714,\n",
       "   'byte_perplexity': 1.6874262449793889,\n",
       "   'bits_per_byte': 0.7548244453765823}},\n",
       " 'versions': {'wikitext': 1}}"
      ]
     },
     "metadata": {},
     "output_type": "display_data"
    }
   ],
   "source": [
    "display(lm_eval.evaluator.evaluate(adapter, lm_eval.tasks.get_task_dict([\"wikitext\"]), limit=2))"
   ]
  },
  {
   "cell_type": "markdown",
   "metadata": {},
   "source": [
    "## Outcompare\n",
    "\n",
    "Outcompare is a custom harness for comparing the greedy generations of a language model against a reference output (e.g. the same model, before quantisation to low-precision)."
   ]
  },
  {
   "cell_type": "code",
   "execution_count": 7,
   "metadata": {},
   "outputs": [
    {
     "data": {
      "text/plain": [
       "{'entropy_rmse': 0.0,\n",
       " 'entropy_rmse_stderr': 0.0,\n",
       " 'exact_match_length': 64.0,\n",
       " 'exact_match_length_stderr': 0.0,\n",
       " 'edit_distance_L16': 0.0,\n",
       " 'edit_distance_L16_stderr': 0.0}"
      ]
     },
     "metadata": {},
     "output_type": "display_data"
    }
   ],
   "source": [
    "outcompare_data = L.outcompare.Dataset.load(\"../data/pythia-410m.json\")\n",
    "display(L.outcompare.evaluate(adapter.model, outcompare_data, batch_size=16, limit=64))"
   ]
  },
  {
   "attachments": {},
   "cell_type": "markdown",
   "metadata": {},
   "source": [
    "## Deliberately mess up the model & see what happens"
   ]
  },
  {
   "cell_type": "code",
   "execution_count": 8,
   "metadata": {},
   "outputs": [
    {
     "data": {
      "text/plain": [
       "{'entropy_rmse': 0.2652008831501007,\n",
       " 'entropy_rmse_stderr': 0.05454297363758087,\n",
       " 'exact_match_length': 6.546875,\n",
       " 'exact_match_length_stderr': 0.8977843523025513,\n",
       " 'edit_distance_L16': 7.640625,\n",
       " 'edit_distance_L16_stderr': 0.6312651038169861}"
      ]
     },
     "metadata": {},
     "output_type": "display_data"
    }
   ],
   "source": [
    "adapter.model.gpt_neox.layers[4].attention.dense.weight.data.fill_(0)\n",
    "display(L.outcompare.evaluate(adapter.model, outcompare_data, batch_size=16, limit=64))"
   ]
  }
 ],
 "metadata": {
  "kernelspec": {
   "display_name": ".venv",
   "language": "python",
   "name": "python3"
  },
  "language_info": {
   "codemirror_mode": {
    "name": "ipython",
    "version": 3
   },
   "file_extension": ".py",
   "mimetype": "text/x-python",
   "name": "python",
   "nbconvert_exporter": "python",
   "pygments_lexer": "ipython3",
   "version": "3.8.10"
  },
  "orig_nbformat": 4
 },
 "nbformat": 4,
 "nbformat_minor": 2
}
