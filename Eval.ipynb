{
 "cells": [
  {
   "cell_type": "code",
   "execution_count": 1,
   "metadata": {},
   "outputs": [],
   "source": [
    "%load_ext autoreload\n",
    "%autoreload 2\n",
    "import lm_eval.evaluator\n",
    "import llminference as L"
   ]
  },
  {
   "attachments": {},
   "cell_type": "markdown",
   "metadata": {},
   "source": [
    "# Load a pretrained model & evaluate"
   ]
  },
  {
   "cell_type": "code",
   "execution_count": 2,
   "metadata": {},
   "outputs": [
    {
     "name": "stderr",
     "output_type": "stream",
     "text": [
      "No config specified, defaulting to: lambada_openai/default\n",
      "Found cached dataset lambada_openai (/nethome/douglaso/.cache/huggingface/datasets/EleutherAI___lambada_openai/default/1.0.0/57baddecfa09d1790541ef07274c5666abfbe9d2ccd0cd46013cd557b0343095)\n"
     ]
    },
    {
     "data": {
      "application/vnd.jupyter.widget-view+json": {
       "model_id": "669c8f64c0724285b7ff58dd99659f24",
       "version_major": 2,
       "version_minor": 0
      },
      "text/plain": [
       "  0%|          | 0/1 [00:00<?, ?it/s]"
      ]
     },
     "metadata": {},
     "output_type": "display_data"
    },
    {
     "name": "stdout",
     "output_type": "stream",
     "text": [
      "Running loglikelihood requests\n"
     ]
    },
    {
     "name": "stderr",
     "output_type": "stream",
     "text": [
      "100%|██████████| 5151/5151 [01:00<00:00, 84.81it/s] \n"
     ]
    },
    {
     "name": "stdout",
     "output_type": "stream",
     "text": [
      "bootstrapping for stddev: perplexity\n"
     ]
    },
    {
     "name": "stderr",
     "output_type": "stream",
     "text": [
      "100%|██████████| 100/100 [00:02<00:00, 34.73it/s]\n"
     ]
    },
    {
     "data": {
      "text/plain": [
       "{'results': {'lambada_openai': {'ppl': 130.96083072941352,\n",
       "   'ppl_stderr': 5.519581850216156,\n",
       "   'acc': 0.22724626431205122,\n",
       "   'acc_stderr': 0.005838227385425755}},\n",
       " 'versions': {'lambada_openai': 0}}"
      ]
     },
     "metadata": {},
     "output_type": "display_data"
    }
   ],
   "source": [
    "adapter = L.Adapter.from_pretrained(\"EleutherAI/pythia-70m\")\n",
    "display(lm_eval.evaluator.evaluate(adapter, lm_eval.tasks.get_task_dict([\"lambada_openai\"])))"
   ]
  },
  {
   "cell_type": "code",
   "execution_count": 5,
   "metadata": {},
   "outputs": [
    {
     "data": {
      "text/plain": [
       "{'entropy_rmse': 0.0,\n",
       " 'entropy_rmse_stderr': 0.0,\n",
       " 'exact_match_length': 64.0,\n",
       " 'exact_match_length_stderr': 0.0,\n",
       " 'edit_distance_L16': 0.0,\n",
       " 'edit_distance_L16_stderr': 0.0}"
      ]
     },
     "metadata": {},
     "output_type": "display_data"
    }
   ],
   "source": [
    "outcompare_data = L.outcompare.Dataset.load(\"../data/pythia-70m.json\")\n",
    "display(L.outcompare.evaluate(adapter.model, outcompare_data, batch_size=16, limit=64))"
   ]
  },
  {
   "attachments": {},
   "cell_type": "markdown",
   "metadata": {},
   "source": [
    "## Deliberately mess up the model & see what happens"
   ]
  },
  {
   "cell_type": "code",
   "execution_count": 6,
   "metadata": {},
   "outputs": [
    {
     "name": "stderr",
     "output_type": "stream",
     "text": [
      "No config specified, defaulting to: lambada_openai/default\n",
      "Found cached dataset lambada_openai (/nethome/douglaso/.cache/huggingface/datasets/EleutherAI___lambada_openai/default/1.0.0/57baddecfa09d1790541ef07274c5666abfbe9d2ccd0cd46013cd557b0343095)\n"
     ]
    },
    {
     "data": {
      "application/vnd.jupyter.widget-view+json": {
       "model_id": "2f97bd311d364baaabd74359f528b652",
       "version_major": 2,
       "version_minor": 0
      },
      "text/plain": [
       "  0%|          | 0/1 [00:00<?, ?it/s]"
      ]
     },
     "metadata": {},
     "output_type": "display_data"
    },
    {
     "name": "stdout",
     "output_type": "stream",
     "text": [
      "Running loglikelihood requests\n"
     ]
    },
    {
     "name": "stderr",
     "output_type": "stream",
     "text": [
      "100%|██████████| 5151/5151 [00:59<00:00, 86.14it/s] \n"
     ]
    },
    {
     "name": "stdout",
     "output_type": "stream",
     "text": [
      "bootstrapping for stddev: perplexity\n"
     ]
    },
    {
     "name": "stderr",
     "output_type": "stream",
     "text": [
      "100%|██████████| 100/100 [00:02<00:00, 37.33it/s]\n"
     ]
    },
    {
     "data": {
      "text/plain": [
       "{'results': {'lambada_openai': {'ppl': 407.38169350433435,\n",
       "   'ppl_stderr': 16.256237186731294,\n",
       "   'acc': 0.11410828643508636,\n",
       "   'acc_stderr': 0.004429564034890585}},\n",
       " 'versions': {'lambada_openai': 0}}"
      ]
     },
     "metadata": {},
     "output_type": "display_data"
    }
   ],
   "source": [
    "adapter.model.gpt_neox.layers[4].attention.dense.weight.data.fill_(0)\n",
    "display(lm_eval.evaluator.evaluate(adapter, lm_eval.tasks.get_task_dict([\"lambada_openai\"])))"
   ]
  },
  {
   "cell_type": "code",
   "execution_count": 7,
   "metadata": {},
   "outputs": [
    {
     "data": {
      "text/plain": [
       "{'entropy_rmse': 0.5335424542427063,\n",
       " 'entropy_rmse_stderr': 0.02504601702094078,\n",
       " 'exact_match_length': 5.140625,\n",
       " 'exact_match_length_stderr': 1.142146110534668,\n",
       " 'edit_distance_L16': 10.40625,\n",
       " 'edit_distance_L16_stderr': 0.6003961563110352}"
      ]
     },
     "metadata": {},
     "output_type": "display_data"
    }
   ],
   "source": [
    "display(L.outcompare.evaluate(adapter.model, outcompare_data, batch_size=16, limit=64))"
   ]
  }
 ],
 "metadata": {
  "kernelspec": {
   "display_name": ".venv",
   "language": "python",
   "name": "python3"
  },
  "language_info": {
   "codemirror_mode": {
    "name": "ipython",
    "version": 3
   },
   "file_extension": ".py",
   "mimetype": "text/x-python",
   "name": "python",
   "nbconvert_exporter": "python",
   "pygments_lexer": "ipython3",
   "version": "3.8.10"
  },
  "orig_nbformat": 4
 },
 "nbformat": 4,
 "nbformat_minor": 2
}
