{
 "cells": [
  {
   "cell_type": "markdown",
   "metadata": {},
   "source": [
    "# QA Eval Demo"
   ]
  },
  {
   "cell_type": "markdown",
   "metadata": {},
   "source": [
    "Example how to run evaluation of a generic QA task. Assume that QA task has examples containing:\n",
    "* **context string**: Information that is prepended to the prompt containing information/answer.\n",
    "* **prompt string**: Prompt with the question.\n",
    "* **answers**: List of accepted answer strings."
   ]
  },
  {
   "cell_type": "code",
   "execution_count": 1,
   "metadata": {},
   "outputs": [],
   "source": [
    "%load_ext autoreload\n",
    "%autoreload 2"
   ]
  },
  {
   "cell_type": "code",
   "execution_count": 2,
   "metadata": {},
   "outputs": [],
   "source": [
    "import llminference as L\n",
    "import datasets"
   ]
  },
  {
   "cell_type": "code",
   "execution_count": 3,
   "metadata": {},
   "outputs": [],
   "source": [
    "adapter = L.Adapter.from_pretrained(\"EleutherAI/pythia-410m\")"
   ]
  },
  {
   "cell_type": "code",
   "execution_count": 4,
   "metadata": {},
   "outputs": [],
   "source": [
    "triviaqa2k = datasets.load_from_disk(\"/nethome/lukar/datasets/triviaqa_2k/\")"
   ]
  },
  {
   "cell_type": "code",
   "execution_count": 5,
   "metadata": {},
   "outputs": [],
   "source": [
    "val = triviaqa2k[\"validation\"]"
   ]
  },
  {
   "cell_type": "code",
   "execution_count": 6,
   "metadata": {},
   "outputs": [],
   "source": [
    "# Format examples\n",
    "examples = [L.eval_utils.format_triviaqa(x) for x in val]"
   ]
  },
  {
   "cell_type": "code",
   "execution_count": 7,
   "metadata": {},
   "outputs": [
    {
     "data": {
      "text/plain": [
       "{'context': 'David Helfgott (born 19 May 1947) is an Australian concert pianist. Helfgott\\'s life inspired the Academy Award-winning film Shine, in which he was played by Geoffrey Rush.\\n\\nBiography \\n\\nEarly life \\n\\nHelfgott was born in Melbourne to Polish Jewish parents Rachel (née Granek) and Elias Peter Helfgott.  He became known as a child prodigy after his father started teaching him the piano when he was five. When he was ten years old he studied under Frank Arndt, a Perth piano teacher, and won several local competitions—sometimes alone and sometimes with his elder sister Margaret.\\n\\nAt the age of fourteen while studying at Mount Lawley Senior High School, people such as Perth composer James Penberthy and writer Katharine Susannah Prichard raised money to enable him to go to the United States to study music. However, his father denied him permission. From age 17 he studied with Alice Carrard, a former student of Béla Bartók and István Thomán. He won the state final of the ABC Instrumental and Vocal Competition six times.\\n\\nLondon studies and mental illness \\n\\nAt the age of nineteen, Helfgott won a scholarship to study at the Royal College of Music in London, where he studied under the pianist Cyril Smith for three years. The awards he won at the RCM included the Dannreuther Prize for Best Concerto Performance for his performance of Rachmaninoff\\'s Piano Concerto No. 3, and the Marmaduke Barton Prize.\\n\\nDuring his time in London he began showing more definite manifestations of schizoaffective disorder. He returned to Perth in 1970. The following year he married Clare Papp, an older woman with four children.Who, 24 March 1997  He worked as a rehearsal pianist for the Western Australian Opera Company and also took part in several ABC concerts. After his brief marriage broke down he was institutionalised in Graylands, a Perth mental hospital. Over the next ten years, he underwent psychiatric treatment which included psychotropic medication and electroconvulsive therapy.\\n\\nIn 1983 his brother Les Helfgott found him working at a Perth wine bar called Riccardo\\'s. In 1984, at Riccardo\\'s, Helfgott met Gillian Murray, an astrologer. They married later that year.\\n\\nShine \\n\\nHelfgott was the subject of the 1996 film Shine, which dealt with the pianist\\'s formative years and struggle with mental illness. Helfgott was portrayed by actors Geoffrey Rush (adult), Noah Taylor (teenager) and Alex Rafalowicz (child). The film has come in for strong criticism from Helfgott\\'s sister Margaret for a range of alleged inaccuracies, particularly for the portrayal of his father Peter as a violent and tyrannical despot. His brother Les has described the portrayal of Peter in both Shine and in Gillian Helfgott\\'s biography as \"... all outright lies\". David Helfgott\\'s first wife Clare Papp has also said that Peter Helfgott was \"quite badly maligned\" in the film.  In 1998, Margaret published the book Out of Tune: David Helfgott and the Myth of Shine .\\n\\nIn a letter to the editor of Limelight magazine, published in the September 2013 edition, Margaret and Les Helfgott refer to certain claims made in an article in the August 2013 edition,  and state that ... there was no estrangement from members of David\\'s family following his return to Australia.  On the contrary, ... he moved straight back into the family home, and was cared for by our family. ... Dad was not \\'overbearing\\', and his main objection to David\\'s going abroad was his concern for his son\\'s welfare.  In a letter to the Royal College of Music\\'s director in London, David wrote that his father \\'was a super human being\\'\".\\n\\nCurrent musical career \\n\\nHelfgott generally prefers to perform Romantic music, mostly Mussorgsky, Rachmaninoff, Chopin, Liszt, Schumann and Rimsky-Korsakov. However, his recordings and performances, especially that of Rachmaninoff\\'s Piano Concerto No. 3, have been criticized as \"pallid, erratic and incoherent.\"[http://query.nytimes.com/gst/fullpage.html?res=9E05E2DD1230F935A35750C0A961958260&n For Audience at a Recital, the Shine Is Undiminished - New York Times] Of the two commercial recordings released by RCA, the American journal Fanfare Magazine was critical not only of Helfgott himself, but also of his producers, who were \"marketing Helfgott\\'s pain.\"  The British magazine Gramophone was similarly scathing about the exploitative nature of their issue, which, the magazine said, falsely marketed Helfgott as an \"unsung genius\".  \\n\\nOn stage, Helfgott is known for his unusual platform manner. In 1997, critic Anthony Tommasini noted that Helfgott \"stares into the hall and renders a nonstop commentary of grunts, groans and mutterings\".[http://query.nytimes.com/gst/fullpage.html?res=9E05E2DD1230F935A35750C0A961958260&n For Audience at a Recital, the Shine Is Undiminished - New York Times]  Of a 1997 Helfgott recital in New Zealand, critic Denis Dutton wrote, \"If, as Goethe claimed, architecture is frozen music, David Helfgott is the musician who finally proves the converse: that music can also be melted architecture — a structureless rubble of notes.\" \\n\\nIn December 1999, Helfgott was the opener for the \"Geniuses, Savants and Prodigies\" conference of Allan Snyder\\'s Centre for the Mind.\\n\\nAlso in 1999, Helfgott appeared on the rock group Silverchair\\'s album Neon Ballroom (on the opening track, Emotion Sickness). Ben Gillies, the drummer of Silverchair, described Helfgott\\'s adding of the brilliant and difficult piano track to the song, as one of the greatest things he\\'d seen a musician do. The piano arrangement was made by Larry Muhoberac.\\n\\nHelfgott tours Australia annually and plays a small number of recitals in other countries.[http://www.davidhelfgott.com/tour/ David Helfgott Official Website]\\n\\nPersonal life \\n\\nHelfgott and his second wife, Gillian, live in The Promised Land, a valley near Bellingen in New South Wales.  She has written a biography of David, Love You to Bits and Pieces, which sold very well but came in for considerable criticism from David\\'s family, particularly its portrayal of Peter Helfgott.\\n\\nWhen not at the piano his other interests include reading, watching television, listening to music (preferably all at the same time), cats, chess, philosophy, swimming and keeping fit. A former cigarette smoker, Helfgott quit many years ago due to the influence of his first wife.\\n\\nAwards \\n\\n* State Finalist ABC Instrumental and Vocal Competition (6 times)\\n* Time for Peace\\n* Honorary Doctorate of Music. Edith Cowan University (Perth, Western Australia) - Western Australian Academy of Performing Arts (WAAPA)\\n* On 26 November 2006, David Helfgott was formally inducted into the Australian Walk of Fame. At the ceremony, he performed several classical pieces including Rachmaninoff\\'s piano arrangement of Rimsky-Korsakov\\'s Flight of the Bumblebee.\\n*Dannreuther Prize for Best Concerto Performance for his performance of Rachmaninoff\\'s Piano Concerto No. 3',\n",
       " 'prompt': 'Question: Which movie was a biopic about the life of David Helfgott?\\nAnswer:',\n",
       " 'answers': ['Shine',\n",
       "  'Shine (album)',\n",
       "  'Shine (EP)',\n",
       "  'Shine (song)',\n",
       "  'Shiné',\n",
       "  'Shine (disambiguation)',\n",
       "  'Shine(Album)']}"
      ]
     },
     "execution_count": 7,
     "metadata": {},
     "output_type": "execute_result"
    }
   ],
   "source": [
    "examples[0]"
   ]
  },
  {
   "cell_type": "code",
   "execution_count": 8,
   "metadata": {},
   "outputs": [
    {
     "name": "stderr",
     "output_type": "stream",
     "text": [
      "Evaluating EleutherAI/pythia-410m:   0%|          | 0/112 [00:00<?, ?it/s]"
     ]
    },
    {
     "name": "stderr",
     "output_type": "stream",
     "text": [
      "Evaluating EleutherAI/pythia-410m: 100%|██████████| 112/112 [04:43<00:00,  2.53s/it]\n"
     ]
    },
    {
     "data": {
      "text/plain": [
       "0.23370786516853934"
      ]
     },
     "execution_count": 8,
     "metadata": {},
     "output_type": "execute_result"
    }
   ],
   "source": [
    "L.eval_utils.evaluate_qa_task(adapter, examples, batch_size=4, open_book=True)"
   ]
  },
  {
   "cell_type": "code",
   "execution_count": null,
   "metadata": {},
   "outputs": [],
   "source": []
  }
 ],
 "metadata": {
  "kernelspec": {
   "display_name": ".venv",
   "language": "python",
   "name": "python3"
  },
  "language_info": {
   "codemirror_mode": {
    "name": "ipython",
    "version": 3
   },
   "file_extension": ".py",
   "mimetype": "text/x-python",
   "name": "python",
   "nbconvert_exporter": "python",
   "pygments_lexer": "ipython3",
   "version": "3.8.10"
  },
  "orig_nbformat": 4
 },
 "nbformat": 4,
 "nbformat_minor": 2
}
